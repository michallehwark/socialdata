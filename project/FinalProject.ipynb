{
 "cells": [
  {
   "cell_type": "code",
   "execution_count": 5,
   "id": "0f54c7b3",
   "metadata": {
    "tags": []
   },
   "outputs": [],
   "source": [
    "import pandas as pd\n",
    "import geopandas as gpd\n",
    "import matplotlib.pyplot as plt\n",
    "import plotly.express as px\n",
    "import seaborn as sns\n",
    "import numpy as np\n",
    "from tqdm.notebook import tqdm\n",
    "import json\n",
    "from bokeh.plotting import figure, output_file, save\n",
    "from bokeh.io import output_notebook, show\n",
    "from bokeh.models import Div, HoverTool, Select, CustomJS, GeoJSONDataSource, AutocompleteInput, Label, LabelSet\n",
    "from bokeh.layouts import row\n",
    "from bokeh.transform import dodge\n",
    "from bokeh.models.widgets import CheckboxGroup\n",
    "from datetime import datetime, timedelta, time\n",
    "from sklearn.ensemble import RandomForestRegressor\n",
    "from sklearn.model_selection import train_test_split\n",
    "from sklearn import metrics\n",
    "from matplotlib import cm\n",
    "import matplotlib.colors as mcolors"
   ]
  },
  {
   "cell_type": "code",
   "execution_count": 6,
   "id": "9d264a4c",
   "metadata": {
    "tags": []
   },
   "outputs": [
    {
     "data": {
      "text/html": [
       "    <style>\n",
       "        .bk-notebook-logo {\n",
       "            display: block;\n",
       "            width: 20px;\n",
       "            height: 20px;\n",
       "            background-image: url(data:image/png;base64,iVBORw0KGgoAAAANSUhEUgAAABQAAAAUCAYAAACNiR0NAAAABHNCSVQICAgIfAhkiAAAAAlwSFlzAAALEgAACxIB0t1+/AAAABx0RVh0U29mdHdhcmUAQWRvYmUgRmlyZXdvcmtzIENTNui8sowAAAOkSURBVDiNjZRtaJVlGMd/1/08zzln5zjP1LWcU9N0NkN8m2CYjpgQYQXqSs0I84OLIC0hkEKoPtiH3gmKoiJDU7QpLgoLjLIQCpEsNJ1vqUOdO7ppbuec5+V+rj4ctwzd8IIbbi6u+8f1539dt3A78eXC7QizUF7gyV1fD1Yqg4JWz84yffhm0qkFqBogB9rM8tZdtwVsPUhWhGcFJngGeWrPzHm5oaMmkfEg1usvLFyc8jLRqDOMru7AyC8saQr7GG7f5fvDeH7Ej8CM66nIF+8yngt6HWaKh7k49Soy9nXurCi1o3qUbS3zWfrYeQDTB/Qj6kX6Ybhw4B+bOYoLKCC9H3Nu/leUTZ1JdRWkkn2ldcCamzrcf47KKXdAJllSlxAOkRgyHsGC/zRday5Qld9DyoM4/q/rUoy/CXh3jzOu3bHUVZeU+DEn8FInkPBFlu3+nW3Nw0mk6vCDiWg8CeJaxEwuHS3+z5RgY+YBR6V1Z1nxSOfoaPa4LASWxxdNp+VWTk7+4vzaou8v8PN+xo+KY2xsw6une2frhw05CTYOmQvsEhjhWjn0bmXPjpE1+kplmmkP3suftwTubK9Vq22qKmrBhpY4jvd5afdRA3wGjFAgcnTK2s4hY0/GPNIb0nErGMCRxWOOX64Z8RAC4oCXdklmEvcL8o0BfkNK4lUg9HTl+oPlQxdNo3Mg4Nv175e/1LDGzZen30MEjRUtmXSfiTVu1kK8W4txyV6BMKlbgk3lMwYCiusNy9fVfvvwMxv8Ynl6vxoByANLTWplvuj/nF9m2+PDtt1eiHPBr1oIfhCChQMBw6Aw0UulqTKZdfVvfG7VcfIqLG9bcldL/+pdWTLxLUy8Qq38heUIjh4XlzZxzQm19lLFlr8vdQ97rjZVOLf8nclzckbcD4wxXMidpX30sFd37Fv/GtwwhzhxGVAprjbg0gCAEeIgwCZyTV2Z1REEW8O4py0wsjeloKoMr6iCY6dP92H6Vw/oTyICIthibxjm/DfN9lVz8IqtqKYLUXfoKVMVQVVJOElGjrnnUt9T9wbgp8AyYKaGlqingHZU/uG2NTZSVqwHQTWkx9hxjkpWDaCg6Ckj5qebgBVbT3V3NNXMSiWSDdGV3hrtzla7J+duwPOToIg42ChPQOQjspnSlp1V+Gjdged7+8UN5CRAV7a5EdFNwCjEaBR27b3W890TE7g24NAP/mMDXRWrGoFPQI9ls/MWO2dWFAar/xcOIImbbpA3zgAAAABJRU5ErkJggg==);\n",
       "        }\n",
       "    </style>\n",
       "    <div>\n",
       "        <a href=\"https://bokeh.org\" target=\"_blank\" class=\"bk-notebook-logo\"></a>\n",
       "        <span id=\"b208235e-4d53-4937-a903-9d69626aa561\">Loading BokehJS ...</span>\n",
       "    </div>\n"
      ]
     },
     "metadata": {},
     "output_type": "display_data"
    },
    {
     "data": {
      "application/javascript": "'use strict';\n(function(root) {\n  function now() {\n    return new Date();\n  }\n\n  const force = true;\n\n  if (typeof root._bokeh_onload_callbacks === \"undefined\" || force === true) {\n    root._bokeh_onload_callbacks = [];\n    root._bokeh_is_loading = undefined;\n  }\n\nconst JS_MIME_TYPE = 'application/javascript';\n  const HTML_MIME_TYPE = 'text/html';\n  const EXEC_MIME_TYPE = 'application/vnd.bokehjs_exec.v0+json';\n  const CLASS_NAME = 'output_bokeh rendered_html';\n\n  /**\n   * Render data to the DOM node\n   */\n  function render(props, node) {\n    const script = document.createElement(\"script\");\n    node.appendChild(script);\n  }\n\n  /**\n   * Handle when an output is cleared or removed\n   */\n  function handleClearOutput(event, handle) {\n    function drop(id) {\n      const view = Bokeh.index.get_by_id(id)\n      if (view != null) {\n        view.model.document.clear()\n        Bokeh.index.delete(view)\n      }\n    }\n\n    const cell = handle.cell;\n\n    const id = cell.output_area._bokeh_element_id;\n    const server_id = cell.output_area._bokeh_server_id;\n\n    // Clean up Bokeh references\n    if (id != null) {\n      drop(id)\n    }\n\n    if (server_id !== undefined) {\n      // Clean up Bokeh references\n      const cmd_clean = \"from bokeh.io.state import curstate; print(curstate().uuid_to_server['\" + server_id + \"'].get_sessions()[0].document.roots[0]._id)\";\n      cell.notebook.kernel.execute(cmd_clean, {\n        iopub: {\n          output: function(msg) {\n            const id = msg.content.text.trim()\n            drop(id)\n          }\n        }\n      });\n      // Destroy server and session\n      const cmd_destroy = \"import bokeh.io.notebook as ion; ion.destroy_server('\" + server_id + \"')\";\n      cell.notebook.kernel.execute(cmd_destroy);\n    }\n  }\n\n  /**\n   * Handle when a new output is added\n   */\n  function handleAddOutput(event, handle) {\n    const output_area = handle.output_area;\n    const output = handle.output;\n\n    // limit handleAddOutput to display_data with EXEC_MIME_TYPE content only\n    if ((output.output_type != \"display_data\") || (!Object.prototype.hasOwnProperty.call(output.data, EXEC_MIME_TYPE))) {\n      return\n    }\n\n    const toinsert = output_area.element.find(\".\" + CLASS_NAME.split(' ')[0]);\n\n    if (output.metadata[EXEC_MIME_TYPE][\"id\"] !== undefined) {\n      toinsert[toinsert.length - 1].firstChild.textContent = output.data[JS_MIME_TYPE];\n      // store reference to embed id on output_area\n      output_area._bokeh_element_id = output.metadata[EXEC_MIME_TYPE][\"id\"];\n    }\n    if (output.metadata[EXEC_MIME_TYPE][\"server_id\"] !== undefined) {\n      const bk_div = document.createElement(\"div\");\n      bk_div.innerHTML = output.data[HTML_MIME_TYPE];\n      const script_attrs = bk_div.children[0].attributes;\n      for (let i = 0; i < script_attrs.length; i++) {\n        toinsert[toinsert.length - 1].firstChild.setAttribute(script_attrs[i].name, script_attrs[i].value);\n        toinsert[toinsert.length - 1].firstChild.textContent = bk_div.children[0].textContent\n      }\n      // store reference to server id on output_area\n      output_area._bokeh_server_id = output.metadata[EXEC_MIME_TYPE][\"server_id\"];\n    }\n  }\n\n  function register_renderer(events, OutputArea) {\n\n    function append_mime(data, metadata, element) {\n      // create a DOM node to render to\n      const toinsert = this.create_output_subarea(\n        metadata,\n        CLASS_NAME,\n        EXEC_MIME_TYPE\n      );\n      this.keyboard_manager.register_events(toinsert);\n      // Render to node\n      const props = {data: data, metadata: metadata[EXEC_MIME_TYPE]};\n      render(props, toinsert[toinsert.length - 1]);\n      element.append(toinsert);\n      return toinsert\n    }\n\n    /* Handle when an output is cleared or removed */\n    events.on('clear_output.CodeCell', handleClearOutput);\n    events.on('delete.Cell', handleClearOutput);\n\n    /* Handle when a new output is added */\n    events.on('output_added.OutputArea', handleAddOutput);\n\n    /**\n     * Register the mime type and append_mime function with output_area\n     */\n    OutputArea.prototype.register_mime_type(EXEC_MIME_TYPE, append_mime, {\n      /* Is output safe? */\n      safe: true,\n      /* Index of renderer in `output_area.display_order` */\n      index: 0\n    });\n  }\n\n  // register the mime type if in Jupyter Notebook environment and previously unregistered\n  if (root.Jupyter !== undefined) {\n    const events = require('base/js/events');\n    const OutputArea = require('notebook/js/outputarea').OutputArea;\n\n    if (OutputArea.prototype.mime_types().indexOf(EXEC_MIME_TYPE) == -1) {\n      register_renderer(events, OutputArea);\n    }\n  }\n  if (typeof (root._bokeh_timeout) === \"undefined\" || force === true) {\n    root._bokeh_timeout = Date.now() + 5000;\n    root._bokeh_failed_load = false;\n  }\n\n  const NB_LOAD_WARNING = {'data': {'text/html':\n     \"<div style='background-color: #fdd'>\\n\"+\n     \"<p>\\n\"+\n     \"BokehJS does not appear to have successfully loaded. If loading BokehJS from CDN, this \\n\"+\n     \"may be due to a slow or bad network connection. Possible fixes:\\n\"+\n     \"</p>\\n\"+\n     \"<ul>\\n\"+\n     \"<li>re-rerun `output_notebook()` to attempt to load from CDN again, or</li>\\n\"+\n     \"<li>use INLINE resources instead, as so:</li>\\n\"+\n     \"</ul>\\n\"+\n     \"<code>\\n\"+\n     \"from bokeh.resources import INLINE\\n\"+\n     \"output_notebook(resources=INLINE)\\n\"+\n     \"</code>\\n\"+\n     \"</div>\"}};\n\n  function display_loaded(error = null) {\n    const el = document.getElementById(\"b208235e-4d53-4937-a903-9d69626aa561\");\n    if (el != null) {\n      const html = (() => {\n        if (typeof root.Bokeh === \"undefined\") {\n          if (error == null) {\n            return \"BokehJS is loading ...\";\n          } else {\n            return \"BokehJS failed to load.\";\n          }\n        } else {\n          const prefix = `BokehJS ${root.Bokeh.version}`;\n          if (error == null) {\n            return `${prefix} successfully loaded.`;\n          } else {\n            return `${prefix} <b>encountered errors</b> while loading and may not function as expected.`;\n          }\n        }\n      })();\n      el.innerHTML = html;\n\n      if (error != null) {\n        const wrapper = document.createElement(\"div\");\n        wrapper.style.overflow = \"auto\";\n        wrapper.style.height = \"5em\";\n        wrapper.style.resize = \"vertical\";\n        const content = document.createElement(\"div\");\n        content.style.fontFamily = \"monospace\";\n        content.style.whiteSpace = \"pre-wrap\";\n        content.style.backgroundColor = \"rgb(255, 221, 221)\";\n        content.textContent = error.stack ?? error.toString();\n        wrapper.append(content);\n        el.append(wrapper);\n      }\n    } else if (Date.now() < root._bokeh_timeout) {\n      setTimeout(() => display_loaded(error), 100);\n    }\n  }\n\n  function run_callbacks() {\n    try {\n      root._bokeh_onload_callbacks.forEach(function(callback) {\n        if (callback != null)\n          callback();\n      });\n    } finally {\n      delete root._bokeh_onload_callbacks\n    }\n    console.debug(\"Bokeh: all callbacks have finished\");\n  }\n\n  function load_libs(css_urls, js_urls, callback) {\n    if (css_urls == null) css_urls = [];\n    if (js_urls == null) js_urls = [];\n\n    root._bokeh_onload_callbacks.push(callback);\n    if (root._bokeh_is_loading > 0) {\n      console.debug(\"Bokeh: BokehJS is being loaded, scheduling callback at\", now());\n      return null;\n    }\n    if (js_urls == null || js_urls.length === 0) {\n      run_callbacks();\n      return null;\n    }\n    console.debug(\"Bokeh: BokehJS not loaded, scheduling load and callback at\", now());\n    root._bokeh_is_loading = css_urls.length + js_urls.length;\n\n    function on_load() {\n      root._bokeh_is_loading--;\n      if (root._bokeh_is_loading === 0) {\n        console.debug(\"Bokeh: all BokehJS libraries/stylesheets loaded\");\n        run_callbacks()\n      }\n    }\n\n    function on_error(url) {\n      console.error(\"failed to load \" + url);\n    }\n\n    for (let i = 0; i < css_urls.length; i++) {\n      const url = css_urls[i];\n      const element = document.createElement(\"link\");\n      element.onload = on_load;\n      element.onerror = on_error.bind(null, url);\n      element.rel = \"stylesheet\";\n      element.type = \"text/css\";\n      element.href = url;\n      console.debug(\"Bokeh: injecting link tag for BokehJS stylesheet: \", url);\n      document.body.appendChild(element);\n    }\n\n    for (let i = 0; i < js_urls.length; i++) {\n      const url = js_urls[i];\n      const element = document.createElement('script');\n      element.onload = on_load;\n      element.onerror = on_error.bind(null, url);\n      element.async = false;\n      element.src = url;\n      console.debug(\"Bokeh: injecting script tag for BokehJS library: \", url);\n      document.head.appendChild(element);\n    }\n  };\n\n  function inject_raw_css(css) {\n    const element = document.createElement(\"style\");\n    element.appendChild(document.createTextNode(css));\n    document.body.appendChild(element);\n  }\n\n  const js_urls = [\"https://cdn.bokeh.org/bokeh/release/bokeh-3.4.0.min.js\", \"https://cdn.bokeh.org/bokeh/release/bokeh-gl-3.4.0.min.js\", \"https://cdn.bokeh.org/bokeh/release/bokeh-widgets-3.4.0.min.js\", \"https://cdn.bokeh.org/bokeh/release/bokeh-tables-3.4.0.min.js\", \"https://cdn.bokeh.org/bokeh/release/bokeh-mathjax-3.4.0.min.js\"];\n  const css_urls = [];\n\n  const inline_js = [    function(Bokeh) {\n      Bokeh.set_log_level(\"info\");\n    },\nfunction(Bokeh) {\n    }\n  ];\n\n  function run_inline_js() {\n    if (root.Bokeh !== undefined || force === true) {\n      try {\n            for (let i = 0; i < inline_js.length; i++) {\n      inline_js[i].call(root, root.Bokeh);\n    }\n\n      } catch (error) {display_loaded(error);throw error;\n      }if (force === true) {\n        display_loaded();\n      }} else if (Date.now() < root._bokeh_timeout) {\n      setTimeout(run_inline_js, 100);\n    } else if (!root._bokeh_failed_load) {\n      console.log(\"Bokeh: BokehJS failed to load within specified timeout.\");\n      root._bokeh_failed_load = true;\n    } else if (force !== true) {\n      const cell = $(document.getElementById(\"b208235e-4d53-4937-a903-9d69626aa561\")).parents('.cell').data().cell;\n      cell.output_area.append_execute_result(NB_LOAD_WARNING)\n    }\n  }\n\n  if (root._bokeh_is_loading === 0) {\n    console.debug(\"Bokeh: BokehJS loaded, going straight to plotting\");\n    run_inline_js();\n  } else {\n    load_libs(css_urls, js_urls, function() {\n      console.debug(\"Bokeh: BokehJS plotting callback run at\", now());\n      run_inline_js();\n    });\n  }\n}(window));",
      "application/vnd.bokehjs_load.v0+json": ""
     },
     "metadata": {},
     "output_type": "display_data"
    }
   ],
   "source": [
    "output_notebook()"
   ]
  },
  {
   "cell_type": "markdown",
   "id": "c0e4e978",
   "metadata": {},
   "source": [
    "# 1. Motivation"
   ]
  },
  {
   "cell_type": "markdown",
   "id": "9b51f397",
   "metadata": {},
   "source": [
    "### 1.1. About dataset\n",
    "\n",
    "For the data analysis we used two subsets of the dataset NYC 311 Service Requests supported with The Department of Buildings (DOB) issues permits for construction and demolition activities in the City of New York. \n",
    "\n",
    "> The main dataset, the **NYC 311 Service Requests** dataset, contains information about service requests made by residents to the New York City government for various non-emergency services. This dataset covers a wide range of issues such as noise complaints, street light outages, potholes, graffiti removal, and many others. The dataset was aquired from NYC Open Data [1]."
   ]
  },
  {
   "cell_type": "code",
   "execution_count": 7,
   "id": "dccd3063",
   "metadata": {
    "tags": []
   },
   "outputs": [
    {
     "name": "stderr",
     "output_type": "stream",
     "text": [
      "C:\\Users\\micha\\AppData\\Local\\Temp\\ipykernel_23792\\4051626389.py:2: DtypeWarning: Columns (31) have mixed types. Specify dtype option on import or set low_memory=False.\n",
      "  data = pd.read_csv('311_Service_Requests_from_2010_to_Present.csv')\n"
     ]
    },
    {
     "data": {
      "text/html": [
       "<div>\n",
       "<style scoped>\n",
       "    .dataframe tbody tr th:only-of-type {\n",
       "        vertical-align: middle;\n",
       "    }\n",
       "\n",
       "    .dataframe tbody tr th {\n",
       "        vertical-align: top;\n",
       "    }\n",
       "\n",
       "    .dataframe thead th {\n",
       "        text-align: right;\n",
       "    }\n",
       "</style>\n",
       "<table border=\"1\" class=\"dataframe\">\n",
       "  <thead>\n",
       "    <tr style=\"text-align: right;\">\n",
       "      <th></th>\n",
       "      <th>Unique Key</th>\n",
       "      <th>Created Date</th>\n",
       "      <th>Closed Date</th>\n",
       "      <th>Agency</th>\n",
       "      <th>Agency Name</th>\n",
       "      <th>Complaint Type</th>\n",
       "      <th>Descriptor</th>\n",
       "      <th>Location Type</th>\n",
       "      <th>Incident Zip</th>\n",
       "      <th>Incident Address</th>\n",
       "      <th>...</th>\n",
       "      <th>Vehicle Type</th>\n",
       "      <th>Taxi Company Borough</th>\n",
       "      <th>Taxi Pick Up Location</th>\n",
       "      <th>Bridge Highway Name</th>\n",
       "      <th>Bridge Highway Direction</th>\n",
       "      <th>Road Ramp</th>\n",
       "      <th>Bridge Highway Segment</th>\n",
       "      <th>Latitude</th>\n",
       "      <th>Longitude</th>\n",
       "      <th>Location</th>\n",
       "    </tr>\n",
       "  </thead>\n",
       "  <tbody>\n",
       "    <tr>\n",
       "      <th>0</th>\n",
       "      <td>59889383</td>\n",
       "      <td>12/31/2023 11:59:42 PM</td>\n",
       "      <td>01/01/2024 01:51:01 AM</td>\n",
       "      <td>NYPD</td>\n",
       "      <td>New York City Police Department</td>\n",
       "      <td>Noise - Street/Sidewalk</td>\n",
       "      <td>Loud Music/Party</td>\n",
       "      <td>Street/Sidewalk</td>\n",
       "      <td>11375.0</td>\n",
       "      <td>63-10 108 STREET</td>\n",
       "      <td>...</td>\n",
       "      <td>NaN</td>\n",
       "      <td>NaN</td>\n",
       "      <td>NaN</td>\n",
       "      <td>NaN</td>\n",
       "      <td>NaN</td>\n",
       "      <td>NaN</td>\n",
       "      <td>NaN</td>\n",
       "      <td>40.734695</td>\n",
       "      <td>-73.850521</td>\n",
       "      <td>(40.734694673156454, -73.85052125577377)</td>\n",
       "    </tr>\n",
       "    <tr>\n",
       "      <th>1</th>\n",
       "      <td>59887573</td>\n",
       "      <td>12/31/2023 11:59:39 PM</td>\n",
       "      <td>01/19/2024 02:37:37 PM</td>\n",
       "      <td>EDC</td>\n",
       "      <td>Economic Development Corporation</td>\n",
       "      <td>Noise - Helicopter</td>\n",
       "      <td>Other</td>\n",
       "      <td>Above Address</td>\n",
       "      <td>10023.0</td>\n",
       "      <td>25 WEST   73 STREET</td>\n",
       "      <td>...</td>\n",
       "      <td>NaN</td>\n",
       "      <td>NaN</td>\n",
       "      <td>NaN</td>\n",
       "      <td>NaN</td>\n",
       "      <td>NaN</td>\n",
       "      <td>NaN</td>\n",
       "      <td>NaN</td>\n",
       "      <td>40.777201</td>\n",
       "      <td>-73.976159</td>\n",
       "      <td>(40.77720102455921, -73.976158989108)</td>\n",
       "    </tr>\n",
       "    <tr>\n",
       "      <th>2</th>\n",
       "      <td>59893860</td>\n",
       "      <td>12/31/2023 11:59:29 PM</td>\n",
       "      <td>01/01/2024 01:51:32 AM</td>\n",
       "      <td>NYPD</td>\n",
       "      <td>New York City Police Department</td>\n",
       "      <td>Noise - Street/Sidewalk</td>\n",
       "      <td>Loud Music/Party</td>\n",
       "      <td>Street/Sidewalk</td>\n",
       "      <td>11374.0</td>\n",
       "      <td>65-09 99 STREET</td>\n",
       "      <td>...</td>\n",
       "      <td>NaN</td>\n",
       "      <td>NaN</td>\n",
       "      <td>NaN</td>\n",
       "      <td>NaN</td>\n",
       "      <td>NaN</td>\n",
       "      <td>NaN</td>\n",
       "      <td>NaN</td>\n",
       "      <td>40.729379</td>\n",
       "      <td>-73.855433</td>\n",
       "      <td>(40.72937885745978, -73.85543290785074)</td>\n",
       "    </tr>\n",
       "    <tr>\n",
       "      <th>3</th>\n",
       "      <td>59887231</td>\n",
       "      <td>12/31/2023 11:59:23 PM</td>\n",
       "      <td>01/01/2024 12:13:30 AM</td>\n",
       "      <td>NYPD</td>\n",
       "      <td>New York City Police Department</td>\n",
       "      <td>Noise - Street/Sidewalk</td>\n",
       "      <td>Loud Music/Party</td>\n",
       "      <td>Street/Sidewalk</td>\n",
       "      <td>11232.0</td>\n",
       "      <td>870 42 STREET</td>\n",
       "      <td>...</td>\n",
       "      <td>NaN</td>\n",
       "      <td>NaN</td>\n",
       "      <td>NaN</td>\n",
       "      <td>NaN</td>\n",
       "      <td>NaN</td>\n",
       "      <td>NaN</td>\n",
       "      <td>NaN</td>\n",
       "      <td>40.644725</td>\n",
       "      <td>-73.997622</td>\n",
       "      <td>(40.64472479285036, -73.9976217135385)</td>\n",
       "    </tr>\n",
       "    <tr>\n",
       "      <th>4</th>\n",
       "      <td>59889382</td>\n",
       "      <td>12/31/2023 11:59:13 PM</td>\n",
       "      <td>01/01/2024 01:50:57 AM</td>\n",
       "      <td>NYPD</td>\n",
       "      <td>New York City Police Department</td>\n",
       "      <td>Noise - Street/Sidewalk</td>\n",
       "      <td>Loud Music/Party</td>\n",
       "      <td>Street/Sidewalk</td>\n",
       "      <td>11375.0</td>\n",
       "      <td>63-10 108 STREET</td>\n",
       "      <td>...</td>\n",
       "      <td>NaN</td>\n",
       "      <td>NaN</td>\n",
       "      <td>NaN</td>\n",
       "      <td>NaN</td>\n",
       "      <td>NaN</td>\n",
       "      <td>NaN</td>\n",
       "      <td>NaN</td>\n",
       "      <td>40.734695</td>\n",
       "      <td>-73.850521</td>\n",
       "      <td>(40.734694673156454, -73.85052125577377)</td>\n",
       "    </tr>\n",
       "  </tbody>\n",
       "</table>\n",
       "<p>5 rows × 41 columns</p>\n",
       "</div>"
      ],
      "text/plain": [
       "   Unique Key            Created Date             Closed Date Agency  \\\n",
       "0    59889383  12/31/2023 11:59:42 PM  01/01/2024 01:51:01 AM   NYPD   \n",
       "1    59887573  12/31/2023 11:59:39 PM  01/19/2024 02:37:37 PM    EDC   \n",
       "2    59893860  12/31/2023 11:59:29 PM  01/01/2024 01:51:32 AM   NYPD   \n",
       "3    59887231  12/31/2023 11:59:23 PM  01/01/2024 12:13:30 AM   NYPD   \n",
       "4    59889382  12/31/2023 11:59:13 PM  01/01/2024 01:50:57 AM   NYPD   \n",
       "\n",
       "                        Agency Name           Complaint Type  \\\n",
       "0   New York City Police Department  Noise - Street/Sidewalk   \n",
       "1  Economic Development Corporation       Noise - Helicopter   \n",
       "2   New York City Police Department  Noise - Street/Sidewalk   \n",
       "3   New York City Police Department  Noise - Street/Sidewalk   \n",
       "4   New York City Police Department  Noise - Street/Sidewalk   \n",
       "\n",
       "         Descriptor    Location Type  Incident Zip     Incident Address  ...  \\\n",
       "0  Loud Music/Party  Street/Sidewalk       11375.0     63-10 108 STREET  ...   \n",
       "1             Other    Above Address       10023.0  25 WEST   73 STREET  ...   \n",
       "2  Loud Music/Party  Street/Sidewalk       11374.0      65-09 99 STREET  ...   \n",
       "3  Loud Music/Party  Street/Sidewalk       11232.0        870 42 STREET  ...   \n",
       "4  Loud Music/Party  Street/Sidewalk       11375.0     63-10 108 STREET  ...   \n",
       "\n",
       "  Vehicle Type Taxi Company Borough Taxi Pick Up Location Bridge Highway Name  \\\n",
       "0          NaN                  NaN                   NaN                 NaN   \n",
       "1          NaN                  NaN                   NaN                 NaN   \n",
       "2          NaN                  NaN                   NaN                 NaN   \n",
       "3          NaN                  NaN                   NaN                 NaN   \n",
       "4          NaN                  NaN                   NaN                 NaN   \n",
       "\n",
       "  Bridge Highway Direction Road Ramp Bridge Highway Segment   Latitude  \\\n",
       "0                      NaN       NaN                    NaN  40.734695   \n",
       "1                      NaN       NaN                    NaN  40.777201   \n",
       "2                      NaN       NaN                    NaN  40.729379   \n",
       "3                      NaN       NaN                    NaN  40.644725   \n",
       "4                      NaN       NaN                    NaN  40.734695   \n",
       "\n",
       "   Longitude                                  Location  \n",
       "0 -73.850521  (40.734694673156454, -73.85052125577377)  \n",
       "1 -73.976159     (40.77720102455921, -73.976158989108)  \n",
       "2 -73.855433   (40.72937885745978, -73.85543290785074)  \n",
       "3 -73.997622    (40.64472479285036, -73.9976217135385)  \n",
       "4 -73.850521  (40.734694673156454, -73.85052125577377)  \n",
       "\n",
       "[5 rows x 41 columns]"
      ]
     },
     "execution_count": 7,
     "metadata": {},
     "output_type": "execute_result"
    }
   ],
   "source": [
    "# Reading in NYC 311 Service Requests dataset, from the year 2023\n",
    "data = pd.read_csv('311_Noise_Complaints_2023.csv')\n",
    "data.head()"
   ]
  },
  {
   "cell_type": "markdown",
   "id": "4e6465d3",
   "metadata": {},
   "source": [
    "311 Service Requests from 2010 to Present is updated daily and contains around 36.2 million rows and 41 columns. 311 is a phone number used in the U.S. that allows callers to access non-emergency municipal services, report problems to government agencies, and request information.\n",
    "\n",
    "The data typically includes details such as the type of request, the location of the issue, the date and time the request was made and closed, and the agency responsible for addressing the problem. It's a valuable resource for analyzing patterns of public service needs across different neighborhoods in New York City, identifying areas that require attention or improvement, and assessing the responsiveness of city agencies to citizen complaints. \n",
    "\n",
    "Researchers, analysts, and policymakers often use this dataset to gain insights into urban issues, improve service delivery, and inform decision-making processes aimed at enhancing the quality of life for residents. \n",
    "\n",
    "**This analysis will mainly discuss two NYC 311 Service Requests data subsets - the data gathered from 2023, specifically focused on the noise complaints across the city, which will be used together with previously mentioned building permits dataset, as well as a data gathered from 2010 to 2023, with 'Location Type' set to 'Residential Building/House', 'Descriptor' set to 'Loud Music/Party' and 'Complaint Type' set to 'Noise - Residential'. This initial filtering of data was done with intetion of using the subset to analyze noise complaints strictly from house parties, throughout the years**"
   ]
  },
  {
   "cell_type": "markdown",
   "id": "f2885267",
   "metadata": {},
   "source": [
    "> **Department of Buildings (DOB) Permits** can offer insights into construction and demolition activities happening across the city. By examining permit data in conjunction with noise complaints, you can explore correlations between construction work and noise disturbances, as well as assess compliance with noise regulations [3]."
   ]
  },
  {
   "cell_type": "code",
   "execution_count": 16,
   "id": "8f4b345e",
   "metadata": {
    "tags": []
   },
   "outputs": [
    {
     "data": {
      "text/html": [
       "<div>\n",
       "<style scoped>\n",
       "    .dataframe tbody tr th:only-of-type {\n",
       "        vertical-align: middle;\n",
       "    }\n",
       "\n",
       "    .dataframe tbody tr th {\n",
       "        vertical-align: top;\n",
       "    }\n",
       "\n",
       "    .dataframe thead th {\n",
       "        text-align: right;\n",
       "    }\n",
       "</style>\n",
       "<table border=\"1\" class=\"dataframe\">\n",
       "  <thead>\n",
       "    <tr style=\"text-align: right;\">\n",
       "      <th></th>\n",
       "      <th>BOROUGH</th>\n",
       "      <th>Bin #</th>\n",
       "      <th>House #</th>\n",
       "      <th>Street Name</th>\n",
       "      <th>Job #</th>\n",
       "      <th>Job doc. #</th>\n",
       "      <th>Job Type</th>\n",
       "      <th>Self_Cert</th>\n",
       "      <th>Block</th>\n",
       "      <th>Lot</th>\n",
       "      <th>...</th>\n",
       "      <th>Owner’s House State</th>\n",
       "      <th>Owner’s House Zip Code</th>\n",
       "      <th>Owner's Phone #</th>\n",
       "      <th>DOBRunDate</th>\n",
       "      <th>PERMIT_SI_NO</th>\n",
       "      <th>LATITUDE</th>\n",
       "      <th>LONGITUDE</th>\n",
       "      <th>COUNCIL_DISTRICT</th>\n",
       "      <th>CENSUS_TRACT</th>\n",
       "      <th>NTA_NAME</th>\n",
       "    </tr>\n",
       "  </thead>\n",
       "  <tbody>\n",
       "    <tr>\n",
       "      <th>0</th>\n",
       "      <td>BROOKLYN</td>\n",
       "      <td>3057705</td>\n",
       "      <td>1084</td>\n",
       "      <td>FULTON STREET</td>\n",
       "      <td>321953891</td>\n",
       "      <td>2</td>\n",
       "      <td>A2</td>\n",
       "      <td>N</td>\n",
       "      <td>2016</td>\n",
       "      <td>20</td>\n",
       "      <td>...</td>\n",
       "      <td>NaN</td>\n",
       "      <td>NaN</td>\n",
       "      <td>7.183871e+09</td>\n",
       "      <td>11/22/2023 00:00:00</td>\n",
       "      <td>3967198</td>\n",
       "      <td>40.681528</td>\n",
       "      <td>-73.957603</td>\n",
       "      <td>36.0</td>\n",
       "      <td>227.0</td>\n",
       "      <td>Clinton Hill</td>\n",
       "    </tr>\n",
       "    <tr>\n",
       "      <th>1</th>\n",
       "      <td>BROOKLYN</td>\n",
       "      <td>3166244</td>\n",
       "      <td>24</td>\n",
       "      <td>BAY 11TH STREET</td>\n",
       "      <td>340905275</td>\n",
       "      <td>1</td>\n",
       "      <td>A2</td>\n",
       "      <td>N</td>\n",
       "      <td>6361</td>\n",
       "      <td>51</td>\n",
       "      <td>...</td>\n",
       "      <td>NaN</td>\n",
       "      <td>NaN</td>\n",
       "      <td>3.474747e+09</td>\n",
       "      <td>11/22/2023 00:00:00</td>\n",
       "      <td>3967199</td>\n",
       "      <td>40.609957</td>\n",
       "      <td>-74.008655</td>\n",
       "      <td>43.0</td>\n",
       "      <td>172.0</td>\n",
       "      <td>Bath Beach</td>\n",
       "    </tr>\n",
       "    <tr>\n",
       "      <th>2</th>\n",
       "      <td>STATEN ISLAND</td>\n",
       "      <td>5052978</td>\n",
       "      <td>307</td>\n",
       "      <td>NAUGHTON AVE</td>\n",
       "      <td>540246134</td>\n",
       "      <td>1</td>\n",
       "      <td>A2</td>\n",
       "      <td>N</td>\n",
       "      <td>3652</td>\n",
       "      <td>60</td>\n",
       "      <td>...</td>\n",
       "      <td>NaN</td>\n",
       "      <td>NaN</td>\n",
       "      <td>9.178367e+09</td>\n",
       "      <td>05/02/2023 00:00</td>\n",
       "      <td>3948737</td>\n",
       "      <td>40.583785</td>\n",
       "      <td>-74.093882</td>\n",
       "      <td>50.0</td>\n",
       "      <td>11201.0</td>\n",
       "      <td>Old Town-Dongan Hills-South Beach</td>\n",
       "    </tr>\n",
       "    <tr>\n",
       "      <th>3</th>\n",
       "      <td>STATEN ISLAND</td>\n",
       "      <td>5172013</td>\n",
       "      <td>48</td>\n",
       "      <td>HENDRICKS AVENUE</td>\n",
       "      <td>540249337</td>\n",
       "      <td>1</td>\n",
       "      <td>A2</td>\n",
       "      <td>N</td>\n",
       "      <td>39</td>\n",
       "      <td>29</td>\n",
       "      <td>...</td>\n",
       "      <td>NaN</td>\n",
       "      <td>NaN</td>\n",
       "      <td>9.172578e+09</td>\n",
       "      <td>05/02/2023 00:00</td>\n",
       "      <td>3948738</td>\n",
       "      <td>40.640468</td>\n",
       "      <td>-74.083137</td>\n",
       "      <td>49.0</td>\n",
       "      <td>11.0</td>\n",
       "      <td>West New Brighton-New Brighton-St. George</td>\n",
       "    </tr>\n",
       "    <tr>\n",
       "      <th>4</th>\n",
       "      <td>BROOKLYN</td>\n",
       "      <td>3108295</td>\n",
       "      <td>59</td>\n",
       "      <td>EAST 40 STREET</td>\n",
       "      <td>340906087</td>\n",
       "      <td>1</td>\n",
       "      <td>A2</td>\n",
       "      <td>N</td>\n",
       "      <td>4861</td>\n",
       "      <td>51</td>\n",
       "      <td>...</td>\n",
       "      <td>NaN</td>\n",
       "      <td>NaN</td>\n",
       "      <td>3.472285e+09</td>\n",
       "      <td>11/22/2023 00:00:00</td>\n",
       "      <td>3967200</td>\n",
       "      <td>40.654432</td>\n",
       "      <td>-73.940354</td>\n",
       "      <td>41.0</td>\n",
       "      <td>814.0</td>\n",
       "      <td>East Flatbush-Farragut</td>\n",
       "    </tr>\n",
       "  </tbody>\n",
       "</table>\n",
       "<p>5 rows × 60 columns</p>\n",
       "</div>"
      ],
      "text/plain": [
       "         BOROUGH    Bin # House #       Street Name      Job #  Job doc. #  \\\n",
       "0       BROOKLYN  3057705    1084     FULTON STREET  321953891           2   \n",
       "1       BROOKLYN  3166244      24   BAY 11TH STREET  340905275           1   \n",
       "2  STATEN ISLAND  5052978     307      NAUGHTON AVE  540246134           1   \n",
       "3  STATEN ISLAND  5172013      48  HENDRICKS AVENUE  540249337           1   \n",
       "4       BROOKLYN  3108295      59    EAST 40 STREET  340906087           1   \n",
       "\n",
       "  Job Type Self_Cert  Block  Lot  ...  Owner’s House State  \\\n",
       "0       A2         N   2016   20  ...                  NaN   \n",
       "1       A2         N   6361   51  ...                  NaN   \n",
       "2       A2         N   3652   60  ...                  NaN   \n",
       "3       A2         N     39   29  ...                  NaN   \n",
       "4       A2         N   4861   51  ...                  NaN   \n",
       "\n",
       "   Owner’s House Zip Code  Owner's Phone #           DOBRunDate PERMIT_SI_NO  \\\n",
       "0                     NaN     7.183871e+09  11/22/2023 00:00:00      3967198   \n",
       "1                     NaN     3.474747e+09  11/22/2023 00:00:00      3967199   \n",
       "2                     NaN     9.178367e+09     05/02/2023 00:00      3948737   \n",
       "3                     NaN     9.172578e+09     05/02/2023 00:00      3948738   \n",
       "4                     NaN     3.472285e+09  11/22/2023 00:00:00      3967200   \n",
       "\n",
       "    LATITUDE  LONGITUDE COUNCIL_DISTRICT CENSUS_TRACT  \\\n",
       "0  40.681528 -73.957603             36.0        227.0   \n",
       "1  40.609957 -74.008655             43.0        172.0   \n",
       "2  40.583785 -74.093882             50.0      11201.0   \n",
       "3  40.640468 -74.083137             49.0         11.0   \n",
       "4  40.654432 -73.940354             41.0        814.0   \n",
       "\n",
       "                                    NTA_NAME  \n",
       "0                               Clinton Hill  \n",
       "1                                 Bath Beach  \n",
       "2          Old Town-Dongan Hills-South Beach  \n",
       "3  West New Brighton-New Brighton-St. George  \n",
       "4                     East Flatbush-Farragut  \n",
       "\n",
       "[5 rows x 60 columns]"
      ]
     },
     "execution_count": 16,
     "metadata": {},
     "output_type": "execute_result"
    }
   ],
   "source": [
    "# Reading in Department of Buildings (DOB) Permits dataset\n",
    "path= r\"DOB_Permit_Issuance_20240421.csv\"\n",
    "permit_data = pd.read_csv(path)\n",
    "permit_data.head()"
   ]
  },
  {
   "cell_type": "markdown",
   "id": "a87f107d",
   "metadata": {},
   "source": [
    "> We also used a NYC ZIP codes geojson for map visualization purposes, taken from [4]"
   ]
  },
  {
   "cell_type": "markdown",
   "id": "12bf651a",
   "metadata": {},
   "source": [
    "### 1.2. Why we chose these datasets\n",
    "\n",
    "Those datasets are a rich source of information for understanding various aspects of city life and infrastructure. 311 Service Requests data contains a vast array of service requests made to the New York City government since 2010, providing a comprehensive view of the types of issues residents face and the responses from municipal agencies. Analyzing this data can provide insights into urban living conditions, community needs and government responsiveness. \n",
    "\n",
    "Combining the NYC 311 Service Requests dataset with the Department of Buildings (DOB) Permits data can enhance the depth and breadth of analysis of service disparities across different demographic groups and neighborhoods as well as assess how changes in permit regulations impact service requests related to construction or building code violations can inform policy adjustments. Understanding how factors such as income, race, and population density correlate with service requests can help identify areas in need of targeted interventions.\n",
    "\n",
    "We focused specifically on examining noise complaints around the city, since this is the group that accounts for the biggest number of reported complaints. Additionally we think that noise pollution is one of the most important and prevalent issues when it comes to city life. Due to the size of the dataset the analysis will be conducted already on the filtered data subset, as mentioned before.\n",
    "\n",
    "Understanding noise complaints can provide valuable insights into the quality of life and urban environment in New York City. Noise pollution is a common concern in densely populated urban areas and can have significant impacts on residents' well-being and health. We aim to understand the noise pollution in NYC from two angles: analysing the noise coming from construction sites and well as house parties in NYC."
   ]
  },
  {
   "cell_type": "markdown",
   "id": "70f37bdb",
   "metadata": {},
   "source": [
    "### 1.3. Goal for the end user's experience\n",
    "\n",
    "The goal for the end user's experience when interacting with the integrated dataset comprising NYC 311 Noise Complaints and DOB Permits data is focus on several key objectives:\n",
    "\n",
    "<ul>\n",
    " <li>Understand which NYC areas are most notorious for loud house parties. On the other hand, to find out which areas are \"safer\" for residents to throw parties without disturbing their neighbours as much.</li><br>\n",
    "    \n",
    " <li>Predict at which time a noise complaint for a house party will most likely be filled, depending on the NYC area as well as time of the year and time of the week.</li><br>\n",
    "    \n",
    " <li>Michal's objectives</li><br>\n",
    "    \n",
    " </ul>"
   ]
  },
  {
   "cell_type": "markdown",
   "id": "d6902d3a",
   "metadata": {},
   "source": [
    "# 2. Basic stats"
   ]
  },
  {
   "cell_type": "markdown",
   "id": "38c5f1fb",
   "metadata": {},
   "source": [
    "As explained in the first section this project utilizes 3 different datasets. The following section provides insights into preliminary data analysis for each of the chosen sets. \n",
    "### 2.1. Data cleaning and preprocessing "
   ]
  },
  {
   "cell_type": "markdown",
   "id": "5750a6c2",
   "metadata": {},
   "source": [
    "#### NYC 311 House Party Noise Complaints from 2010 to 2023"
   ]
  },
  {
   "cell_type": "code",
   "execution_count": null,
   "id": "f669ba1a",
   "metadata": {},
   "outputs": [
    {
     "name": "stderr",
     "output_type": "stream",
     "text": [
      "C:\\Users\\poczt\\AppData\\Local\\Temp\\ipykernel_13216\\1381093947.py:2: DtypeWarning: Columns (15,17,18,20) have mixed types. Specify dtype option on import or set low_memory=False.\n",
      "  data = pd.read_csv('house_party_complaints_2010_2023.csv')\n"
     ]
    }
   ],
   "source": [
    "# Read in data\n",
    "data = pd.read_csv('house_party_complaints_2010_2023.csv')"
   ]
  },
  {
   "cell_type": "markdown",
   "id": "b576eb3d",
   "metadata": {},
   "source": [
    "**Key points from NYC 311 House Party Noise Complaints dataset cleaning and preprocessing.**\n",
    "* The format of date and time fields was standardized to ensure consistency across the dataset. \"Created Date\" and \"Closed Date\" were converted from string format to a standardized datetime format, which will allow for easier manipulation and analysis of date and time data.\n",
    "* Unnecessary columns were removed from the dataset. Some were redundant because of their singular value throughout the whole dataset (like 'Complaint Type' or 'Location Type'), while some were just not usefult for the chosen analysis topic.\n",
    "* Borough names were uncapitalized (e.g. from BRONX to Bronx) to improve readability\n",
    "* Rows with empty 'Incident Zip' cells were removed, as ZIP code areas will be the basis for our analysis.\n",
    "* Time fields like 'Month', 'Weekday' or 'Time' were extracted from the created date. Time is represented as amount of minutes that passed since previous noon (12PM). We chose this representation to make predicting models life easier later, as house parties usually last throughout the night, and values such as 23:56 and 00:11 shouldn't be far apart.\n",
    "* Duplicate noise complaints for the same night in the same location were removed, keeping only the first instance. Instead, an additional column called 'Complaints Count' was added, indicating if multiple complaints were filed for that location that night. We decided to treat all complaints until 7AM as part of the previous night's party, which is where the 'Adjusted Date' column came in handy.\n",
    "* We also made sure at a later point that no Borough had value \"Unspecified\". We mapped the 'Incident Zip' in those rows to a proper Borough name."
   ]
  },
  {
   "cell_type": "code",
   "execution_count": null,
   "id": "e50e6b1d",
   "metadata": {},
   "outputs": [
    {
     "data": {
      "text/html": [
       "<div>\n",
       "<style scoped>\n",
       "    .dataframe tbody tr th:only-of-type {\n",
       "        vertical-align: middle;\n",
       "    }\n",
       "\n",
       "    .dataframe tbody tr th {\n",
       "        vertical-align: top;\n",
       "    }\n",
       "\n",
       "    .dataframe thead th {\n",
       "        text-align: right;\n",
       "    }\n",
       "</style>\n",
       "<table border=\"1\" class=\"dataframe\">\n",
       "  <thead>\n",
       "    <tr style=\"text-align: right;\">\n",
       "      <th></th>\n",
       "      <th>Unique Key</th>\n",
       "      <th>Created Date</th>\n",
       "      <th>Closed Date</th>\n",
       "      <th>Agency</th>\n",
       "      <th>Agency Name</th>\n",
       "      <th>Incident Zip</th>\n",
       "      <th>Incident Address</th>\n",
       "      <th>Street Name</th>\n",
       "      <th>Cross Street 1</th>\n",
       "      <th>Cross Street 2</th>\n",
       "      <th>...</th>\n",
       "      <th>Open Data Channel Type</th>\n",
       "      <th>Latitude</th>\n",
       "      <th>Longitude</th>\n",
       "      <th>Location</th>\n",
       "      <th>Month</th>\n",
       "      <th>Weekday</th>\n",
       "      <th>Time</th>\n",
       "      <th>Hour</th>\n",
       "      <th>Adjusted Date</th>\n",
       "      <th>Complaints Count</th>\n",
       "    </tr>\n",
       "  </thead>\n",
       "  <tbody>\n",
       "    <tr>\n",
       "      <th>0</th>\n",
       "      <td>15628757</td>\n",
       "      <td>2010-01-01 00:08:02</td>\n",
       "      <td>2010-01-01 03:53:37</td>\n",
       "      <td>NYPD</td>\n",
       "      <td>New York City Police Department</td>\n",
       "      <td>11220.0</td>\n",
       "      <td>876 58 STREET</td>\n",
       "      <td>58 STREET</td>\n",
       "      <td>8 AVENUE</td>\n",
       "      <td>9 AVENUE</td>\n",
       "      <td>...</td>\n",
       "      <td>PHONE</td>\n",
       "      <td>40.635708</td>\n",
       "      <td>-74.006853</td>\n",
       "      <td>(40.635707991592696, -74.00685286309795)</td>\n",
       "      <td>1</td>\n",
       "      <td>4</td>\n",
       "      <td>728</td>\n",
       "      <td>0</td>\n",
       "      <td>2009-12-31</td>\n",
       "      <td>1</td>\n",
       "    </tr>\n",
       "    <tr>\n",
       "      <th>1</th>\n",
       "      <td>15627442</td>\n",
       "      <td>2010-01-01 00:08:29</td>\n",
       "      <td>2010-01-01 00:27:41</td>\n",
       "      <td>NYPD</td>\n",
       "      <td>New York City Police Department</td>\n",
       "      <td>10036.0</td>\n",
       "      <td>317 WEST 45 STREET</td>\n",
       "      <td>WEST 45 STREET</td>\n",
       "      <td>8 AVENUE</td>\n",
       "      <td>9 AVENUE</td>\n",
       "      <td>...</td>\n",
       "      <td>PHONE</td>\n",
       "      <td>40.759486</td>\n",
       "      <td>-73.989135</td>\n",
       "      <td>(40.75948567983112, -73.98913488475046)</td>\n",
       "      <td>1</td>\n",
       "      <td>4</td>\n",
       "      <td>728</td>\n",
       "      <td>0</td>\n",
       "      <td>2009-12-31</td>\n",
       "      <td>1</td>\n",
       "    </tr>\n",
       "    <tr>\n",
       "      <th>2</th>\n",
       "      <td>15628369</td>\n",
       "      <td>2010-01-01 00:15:12</td>\n",
       "      <td>2010-01-01 02:35:35</td>\n",
       "      <td>NYPD</td>\n",
       "      <td>New York City Police Department</td>\n",
       "      <td>10014.0</td>\n",
       "      <td>333 WEST 11 STREET</td>\n",
       "      <td>WEST 11 STREET</td>\n",
       "      <td>GREENWICH STREET</td>\n",
       "      <td>WASHINGTON STREET</td>\n",
       "      <td>...</td>\n",
       "      <td>PHONE</td>\n",
       "      <td>40.735607</td>\n",
       "      <td>-74.007697</td>\n",
       "      <td>(40.735606621969815, -74.00769667288294)</td>\n",
       "      <td>1</td>\n",
       "      <td>4</td>\n",
       "      <td>735</td>\n",
       "      <td>0</td>\n",
       "      <td>2009-12-31</td>\n",
       "      <td>1</td>\n",
       "    </tr>\n",
       "    <tr>\n",
       "      <th>3</th>\n",
       "      <td>15628147</td>\n",
       "      <td>2010-01-01 00:19:07</td>\n",
       "      <td>2010-01-01 08:31:26</td>\n",
       "      <td>NYPD</td>\n",
       "      <td>New York City Police Department</td>\n",
       "      <td>10453.0</td>\n",
       "      <td>1702 GRAND AVENUE</td>\n",
       "      <td>GRAND AVENUE</td>\n",
       "      <td>WEST 175 STREET</td>\n",
       "      <td>WEST 176 STREET</td>\n",
       "      <td>...</td>\n",
       "      <td>PHONE</td>\n",
       "      <td>40.848463</td>\n",
       "      <td>-73.914058</td>\n",
       "      <td>(40.84846286296289, -73.91405798979748)</td>\n",
       "      <td>1</td>\n",
       "      <td>4</td>\n",
       "      <td>739</td>\n",
       "      <td>0</td>\n",
       "      <td>2009-12-31</td>\n",
       "      <td>1</td>\n",
       "    </tr>\n",
       "    <tr>\n",
       "      <th>4</th>\n",
       "      <td>15628798</td>\n",
       "      <td>2010-01-01 00:27:45</td>\n",
       "      <td>2010-01-01 01:53:10</td>\n",
       "      <td>NYPD</td>\n",
       "      <td>New York City Police Department</td>\n",
       "      <td>11218.0</td>\n",
       "      <td>430 OCEAN PARKWAY</td>\n",
       "      <td>OCEAN PARKWAY</td>\n",
       "      <td>CORTELYOU ROAD</td>\n",
       "      <td>DITMAS AVENUE</td>\n",
       "      <td>...</td>\n",
       "      <td>PHONE</td>\n",
       "      <td>40.637953</td>\n",
       "      <td>-73.973088</td>\n",
       "      <td>(40.63795302715787, -73.97308845571062)</td>\n",
       "      <td>1</td>\n",
       "      <td>4</td>\n",
       "      <td>747</td>\n",
       "      <td>0</td>\n",
       "      <td>2009-12-31</td>\n",
       "      <td>1</td>\n",
       "    </tr>\n",
       "  </tbody>\n",
       "</table>\n",
       "<p>5 rows × 30 columns</p>\n",
       "</div>"
      ],
      "text/plain": [
       "   Unique Key        Created Date         Closed Date Agency  \\\n",
       "0    15628757 2010-01-01 00:08:02 2010-01-01 03:53:37   NYPD   \n",
       "1    15627442 2010-01-01 00:08:29 2010-01-01 00:27:41   NYPD   \n",
       "2    15628369 2010-01-01 00:15:12 2010-01-01 02:35:35   NYPD   \n",
       "3    15628147 2010-01-01 00:19:07 2010-01-01 08:31:26   NYPD   \n",
       "4    15628798 2010-01-01 00:27:45 2010-01-01 01:53:10   NYPD   \n",
       "\n",
       "                       Agency Name  Incident Zip    Incident Address  \\\n",
       "0  New York City Police Department       11220.0       876 58 STREET   \n",
       "1  New York City Police Department       10036.0  317 WEST 45 STREET   \n",
       "2  New York City Police Department       10014.0  333 WEST 11 STREET   \n",
       "3  New York City Police Department       10453.0   1702 GRAND AVENUE   \n",
       "4  New York City Police Department       11218.0   430 OCEAN PARKWAY   \n",
       "\n",
       "      Street Name    Cross Street 1     Cross Street 2  ...  \\\n",
       "0       58 STREET          8 AVENUE           9 AVENUE  ...   \n",
       "1  WEST 45 STREET          8 AVENUE           9 AVENUE  ...   \n",
       "2  WEST 11 STREET  GREENWICH STREET  WASHINGTON STREET  ...   \n",
       "3    GRAND AVENUE   WEST 175 STREET    WEST 176 STREET  ...   \n",
       "4   OCEAN PARKWAY    CORTELYOU ROAD      DITMAS AVENUE  ...   \n",
       "\n",
       "  Open Data Channel Type   Latitude  Longitude  \\\n",
       "0                  PHONE  40.635708 -74.006853   \n",
       "1                  PHONE  40.759486 -73.989135   \n",
       "2                  PHONE  40.735607 -74.007697   \n",
       "3                  PHONE  40.848463 -73.914058   \n",
       "4                  PHONE  40.637953 -73.973088   \n",
       "\n",
       "                                   Location Month Weekday Time Hour  \\\n",
       "0  (40.635707991592696, -74.00685286309795)     1       4  728    0   \n",
       "1   (40.75948567983112, -73.98913488475046)     1       4  728    0   \n",
       "2  (40.735606621969815, -74.00769667288294)     1       4  735    0   \n",
       "3   (40.84846286296289, -73.91405798979748)     1       4  739    0   \n",
       "4   (40.63795302715787, -73.97308845571062)     1       4  747    0   \n",
       "\n",
       "   Adjusted Date  Complaints Count  \n",
       "0     2009-12-31                 1  \n",
       "1     2009-12-31                 1  \n",
       "2     2009-12-31                 1  \n",
       "3     2009-12-31                 1  \n",
       "4     2009-12-31                 1  \n",
       "\n",
       "[5 rows x 30 columns]"
      ]
     },
     "metadata": {},
     "output_type": "display_data"
    }
   ],
   "source": [
    "# Function to turn a datetime object to integer represantion of time, in form of minutes that passed until last noon (12 p.m.)\n",
    "def minutes_since_noon(dt):\n",
    "    if dt.time() < time(12, 0):\n",
    "        delta = dt - datetime.combine(dt.date() - timedelta(days=1), time(12, 0))\n",
    "    else:\n",
    "        delta = dt - datetime.combine(dt.date(), time(12, 0))\n",
    "    return delta.seconds // 60\n",
    "\n",
    "# Convert to datetime\n",
    "data_party['Created Date'] = pd.to_datetime(data_party['Created Date'], format=\"%m/%d/%Y %I:%M:%S %p\")\n",
    "data_party['Closed Date'] = pd.to_datetime(data_party['Closed Date'], format=\"%m/%d/%Y %I:%M:%S %p\")\n",
    "\n",
    "# Remove unnecessary columns\n",
    "data_party = data_party.drop(columns=['Vehicle Type', 'Taxi Company Borough', 'Taxi Pick Up Location', 'Bridge Highway Name', 'Bridge Highway Direction',\n",
    "                            'Road Ramp', 'Bridge Highway Segment', 'Park Borough', 'Park Facility Name', 'BBL', 'Community Board', 'Descriptor',\n",
    "                            'Location Type', 'Complaint Type', 'Landmark','Facility Type','Due Date'],\n",
    "                            errors='ignore')\n",
    "\n",
    "# Uncapitalize borough names (e.g. from BRONX to Bronx)\n",
    "data_party.Borough = data_party.Borough.str.title()\n",
    "\n",
    "# Remove empty zip codes\n",
    "data_party = data_party[~data_party['Incident Zip'].isnull()]\n",
    "\n",
    "# Add date columns\n",
    "data_party['Month'] = data_party['Created Date'].dt.month\n",
    "data_party['Weekday'] = data_party['Created Date'].dt.weekday\n",
    "data_party['Time'] = data_party['Created Date'].apply(minutes_since_noon)\n",
    "\n",
    "# Remove duplicate complaints for the same location the same night, but keep the count\n",
    "data_party['Adjusted Date'] = data_party['Created Date'].apply(lambda dt: dt.date() if dt.time() > pd.Timestamp('07:00:00').time() else (dt - pd.Timedelta(days=1)).date())\n",
    "data_party = data_party.sort_values('Created Date')\n",
    "grouped = data_party.groupby(['Adjusted Date', 'Incident Address']).size().reset_index(name='Complaints Count')\n",
    "data_party = pd.merge(left=data_party, right=grouped)\n",
    "data_party = data_party.drop_duplicates(subset=['Adjusted Date', 'Incident Address'])\n",
    "\n",
    "# Print out head\n",
    "data_party.head()"
   ]
  },
  {
   "cell_type": "code",
   "execution_count": null,
   "id": "d451d2fc",
   "metadata": {},
   "outputs": [
    {
     "name": "stdout",
     "output_type": "stream",
     "text": [
      "['Unique Key' 'Created Date' 'Closed Date' 'Agency' 'Agency Name'\n",
      " 'Incident Zip' 'Incident Address' 'Street Name' 'Cross Street 1'\n",
      " 'Cross Street 2' 'Intersection Street 1' 'Intersection Street 2'\n",
      " 'Address Type' 'City' 'Status' 'Resolution Description'\n",
      " 'Resolution Action Updated Date' 'Borough' 'X Coordinate (State Plane)'\n",
      " 'Y Coordinate (State Plane)' 'Open Data Channel Type' 'Latitude'\n",
      " 'Longitude' 'Location' 'Month' 'Weekday' 'Time' 'Hour' 'Adjusted Date'\n",
      " 'Complaints Count']\n"
     ]
    }
   ],
   "source": [
    "# Columns that were left\n",
    "print(data_party.columns.values)"
   ]
  },
  {
   "cell_type": "code",
   "execution_count": null,
   "id": "778d6a8b",
   "metadata": {},
   "outputs": [
    {
     "name": "stdout",
     "output_type": "stream",
     "text": [
      "Date range: 5112 days, from 2010-01-01 00:08:02 to 2023-12-31 23:58:16\n"
     ]
    }
   ],
   "source": [
    "# Date range\n",
    "min_date = data_party['Created Date'].min()\n",
    "max_date = data_party['Created Date'].max()\n",
    "date_range = max_date - min_date\n",
    "print(f\"Date range: {date_range.days} days, from {min_date} to {max_date}\")"
   ]
  },
  {
   "cell_type": "code",
   "execution_count": null,
   "id": "4c5fa68e",
   "metadata": {},
   "outputs": [],
   "source": [
    "# Quick look at the number of complaints\n",
    "with open('new-york-zip-codes-_1604.geojson') as file:\n",
    "    nyc_zips = json.load(file)\n",
    "\n",
    "grouped_zip = data_party.groupby(['Incident Zip']).size().reset_index(name='count')\n",
    "max_val = max(grouped_zip['count'])\n",
    "min_val = min(grouped_zip['count'])\n",
    "lat = data_party.Latitude.mean()\n",
    "lon = data_party.Longitude.mean()\n",
    "fig = px.choropleth_mapbox(grouped_zip, \n",
    "                           geojson=nyc_zips, \n",
    "                           locations='Incident Zip', \n",
    "                           featureidkey='properties.ZCTA5CE10',\n",
    "                           color='count',\n",
    "                           mapbox_style=\"carto-positron\",\n",
    "                           zoom=9, \n",
    "                           center = {\"lat\": lat, \"lon\": lon},\n",
    "                           range_color=(min_val, max_val),\n",
    "                           color_continuous_scale=\"Oranges\",\n",
    "                           opacity=0.5\n",
    "                          )\n",
    "\n",
    "fig.update_layout(margin={\"r\":0,\"t\":0,\"l\":0,\"b\":0})\n",
    "fig.show()"
   ]
  },
  {
   "cell_type": "markdown",
   "id": "07994ebc",
   "metadata": {},
   "source": [
    "#### NYC 311 Noise Complaints from 2023"
   ]
  },
  {
   "cell_type": "markdown",
   "id": "3e905037",
   "metadata": {},
   "source": [
    "### TU trochę w ogóle bym zrobiła stats na twoim combined datasecie Michał, a nie na dwóch osobnych"
   ]
  },
  {
   "cell_type": "code",
   "execution_count": 20,
   "id": "5a70062d",
   "metadata": {
    "tags": []
   },
   "outputs": [
    {
     "name": "stdout",
     "output_type": "stream",
     "text": [
      "Number of rows: 686231\n",
      "Number of columns: 41\n"
     ]
    }
   ],
   "source": [
    "# Total size of the dataset NYC 311 Service Requests\n",
    "\n",
    "print(f\"Number of rows: {data.shape[0]}\")\n",
    "print(f\"Number of columns: {data.shape[1]}\")"
   ]
  },
  {
   "cell_type": "code",
   "execution_count": 27,
   "id": "14d8bba3",
   "metadata": {},
   "outputs": [
    {
     "name": "stdout",
     "output_type": "stream",
     "text": [
      "Missing values per column:\n",
      "Unique Key                              0\n",
      "Created Date                            0\n",
      "Closed Date                         54283\n",
      "Agency                                  0\n",
      "Agency Name                             0\n",
      "Complaint Type                          0\n",
      "Descriptor                              0\n",
      "Location Type                      154530\n",
      "Incident Zip                          800\n",
      "Incident Address                    13270\n",
      "Street Name                         13323\n",
      "Cross Street 1                      16118\n",
      "Cross Street 2                      15547\n",
      "Intersection Street 1              135738\n",
      "Intersection Street 2              135112\n",
      "Address Type                       552099\n",
      "City                                99391\n",
      "Landmark                           244524\n",
      "Facility Type                     2194218\n",
      "Status                                  0\n",
      "Due Date                          2194331\n",
      "Resolution Description              56086\n",
      "Resolution Action Updated Date      51879\n",
      "Community Board                        22\n",
      "BBL                                187578\n",
      "Borough                                22\n",
      "X Coordinate (State Plane)          10455\n",
      "Y Coordinate (State Plane)          10311\n",
      "Open Data Channel Type                  0\n",
      "Park Facility Name                      0\n",
      "Park Borough                           22\n",
      "Vehicle Type                      2189816\n",
      "Taxi Company Borough              2194331\n",
      "Taxi Pick Up Location             2194331\n",
      "Bridge Highway Name               2194331\n",
      "Bridge Highway Direction          2194331\n",
      "Road Ramp                         2194331\n",
      "Bridge Highway Segment            2194331\n",
      "Latitude                            10473\n",
      "Longitude                           10473\n",
      "Location                            10473\n",
      "dtype: int64\n"
     ]
    }
   ],
   "source": [
    "# Missing values per column\n",
    "\n",
    "missing_values_per_column = data.isnull().sum()\n",
    "print(\"Missing values per column:\")\n",
    "print(missing_values_per_column)"
   ]
  },
  {
   "cell_type": "code",
   "execution_count": 21,
   "id": "ce15c7d0",
   "metadata": {
    "tags": []
   },
   "outputs": [],
   "source": [
    "columns_to_drop = [\"Taxi Company Borough\", \"Taxi Pick Up Location\", \n",
    "                   \"Bridge Highway Name\", \"Bridge Highway Direction\", \n",
    "                   \"Road Ramp\", \"Bridge Highway Segment\", \"Due Date\", \n",
    "                   \"Facility Type\", \"Vehicle Type\"]\n",
    "\n",
    "data = data.drop(columns=columns_to_drop)"
   ]
  },
  {
   "cell_type": "code",
   "execution_count": 22,
   "id": "3dc6e9b3",
   "metadata": {
    "tags": []
   },
   "outputs": [
    {
     "name": "stdout",
     "output_type": "stream",
     "text": [
      "Duplicate rows:\n",
      "Empty DataFrame\n",
      "Columns: [Unique Key, Created Date, Closed Date, Agency, Agency Name, Complaint Type, Descriptor, Location Type, Incident Zip, Incident Address, Street Name, Cross Street 1, Cross Street 2, Intersection Street 1, Intersection Street 2, Address Type, City, Landmark, Status, Resolution Description, Resolution Action Updated Date, Community Board, BBL, Borough, X Coordinate (State Plane), Y Coordinate (State Plane), Open Data Channel Type, Park Facility Name, Park Borough, Latitude, Longitude, Location]\n",
      "Index: []\n",
      "\n",
      "[0 rows x 32 columns]\n"
     ]
    }
   ],
   "source": [
    "# Duplicated rows\n",
    "\n",
    "duplicate_rows = data[data.duplicated()]\n",
    "print(\"Duplicate rows:\")\n",
    "print(duplicate_rows)"
   ]
  },
  {
   "cell_type": "code",
   "execution_count": 23,
   "id": "799f51c1",
   "metadata": {
    "tags": []
   },
   "outputs": [],
   "source": [
    "# Standardizing Data Formats\n",
    "\n",
    "data['Created Date'] = pd.to_datetime(data['Created Date'], format=\"%m/%d/%Y %I:%M:%S %p\")\n",
    "data['Closed Date'] = pd.to_datetime(data['Closed Date'], format=\"%m/%d/%Y %I:%M:%S %p\")"
   ]
  },
  {
   "cell_type": "code",
   "execution_count": 24,
   "id": "4fefa1b1",
   "metadata": {
    "tags": []
   },
   "outputs": [
    {
     "name": "stdout",
     "output_type": "stream",
     "text": [
      "Date range: 364 days, from 2023-01-01 00:00:42 to 2023-12-31 23:59:42\n"
     ]
    }
   ],
   "source": [
    "# Date range\n",
    "\n",
    "min_date = data['Created Date'].min()\n",
    "max_date = data['Created Date'].max()\n",
    "date_range = max_date - min_date\n",
    "print(f\"Date range: {date_range.days} days, from {min_date} to {max_date}\")"
   ]
  },
  {
   "cell_type": "markdown",
   "id": "c5f21d56-b2e7-436f-b28a-9da5b235c608",
   "metadata": {},
   "source": [
    "**Key points from NYC 311 Service Requests dataset cleaning and preprocessing.**\n",
    "* There is a number of missing values in almost every column. The columns \"Taxi Company Borough\", \"Taxi Pick Up Location\", \"Bridge Highway Name\", \"Bridge Highway Direction\", \"Road Ramp\", \"Bridge Highway Segment\" and \"Due Date\" appear to have only missing values, therefore we decided to drop the columns.\n",
    "* Most of the values in the \"Facility Type\" attribute are missing, as well as in the \"Vehicle Type\" and, as they do not provide valuable information for our analysis, they were also dropped.\n",
    "* The rest of the features we opted to remain, since they seem to be related to the noise complaints.\n",
    "* The format of date and time fields was standardized to ensure consistency across the dataset. \"Created Date\" and \"Closed Date\" were converted from string format to a standardized datetime format, which will allow for easier manipulation and analysis of date and time data.\n",
    "* There are no duplicated rows in the dataset."
   ]
  },
  {
   "cell_type": "markdown",
   "id": "9e1eefbd-61e9-48e8-a7f9-2e52e48b78ad",
   "metadata": {},
   "source": [
    "#### Department of Building (DOB) Permit Data."
   ]
  },
  {
   "cell_type": "code",
   "execution_count": 17,
   "id": "e5016b25-16bb-4c94-81c4-27378a5da247",
   "metadata": {
    "tags": []
   },
   "outputs": [],
   "source": [
    "# Standardizing Data Formats\n",
    "permit_data['Filing Date'] = pd.to_datetime(permit_data['Filing Date'], format=\"%m/%d/%Y\")\n",
    "permit_data['Expiration Date'] = pd.to_datetime(permit_data['Expiration Date'], format=\"%m/%d/%Y\")\n",
    "permit_data['Issuance Date'] = pd.to_datetime(permit_data['Issuance Date'], format=\"%m/%d/%Y\")\n",
    "permit_data['Job Start Date'] = pd.to_datetime(permit_data['Job Start Date'], format=\"%m/%d/%Y\")\n",
    "permit_data['Owner\\'s Business Name'] = permit_data['Owner\\'s Business Name'].replace('NYCSCA', 'NYC SCA')\n",
    "permit_data = permit_data.dropna(subset=['LATITUDE', 'LONGITUDE'], inplace=False)\n",
    "permit_data = permit_data.dropna(subset=[\"Owner's Business Name\"])"
   ]
  },
  {
   "cell_type": "code",
   "execution_count": 18,
   "id": "53fd1261-7c60-4ecf-b0bb-a08fb1352158",
   "metadata": {
    "tags": []
   },
   "outputs": [
    {
     "name": "stdout",
     "output_type": "stream",
     "text": [
      "Number of rows: 5618\n",
      "Number of columns: 60\n",
      "Job permits for date range: 360 days, from 2023-01-03 00:00:00 to 2023-12-29 00:00:00\n",
      "Number of unique companies that received permits: 1148\n"
     ]
    }
   ],
   "source": [
    "# Total size of DOB permit data\n",
    "print(f\"Number of rows: {permit_data.shape[0]}\")\n",
    "print(f\"Number of columns: {permit_data.shape[1]}\")\n",
    "\n",
    "# Other properties\n",
    "min_date = permit_data['Job Start Date'].min()\n",
    "max_date = permit_data['Job Start Date'].max()\n",
    "date_range = max_date - min_date\n",
    "print(f\"Job permits for date range: {date_range.days} days, from {min_date} to {max_date}\")\n",
    "\n",
    "unique_types = permit_data['Permittee\\'s Business Name'].nunique()\n",
    "print(f\"Number of unique companies that received permits: {unique_types}\")"
   ]
  },
  {
   "cell_type": "code",
   "execution_count": 19,
   "id": "8d663f31-6d79-4da4-9d22-6b0a33a1b4d5",
   "metadata": {
    "tags": []
   },
   "outputs": [
    {
     "name": "stdout",
     "output_type": "stream",
     "text": [
      "Most interesting columns inside the Permit Dataset\n",
      "\n",
      "   Job Start Date        BOROUGH      Job #   LATITUDE  LONGITUDE\n",
      "0      2023-11-21       BROOKLYN  321953891  40.681528 -73.957603\n",
      "8      2023-05-01      MANHATTAN  140978075  40.802610 -73.967694\n",
      "9      2023-11-21       BROOKLYN  340905220  40.678058 -73.966258\n",
      "11     2023-12-05  STATEN ISLAND  540261679  40.644123 -74.107826\n",
      "14     2023-05-01          BRONX  201207853  40.845878 -73.886184\n"
     ]
    }
   ],
   "source": [
    "print(f\"Most interesting columns inside the Permit Dataset\\n\")\n",
    "print(f\"{permit_data[['Job Start Date', 'BOROUGH', 'Job #', 'LATITUDE', 'LONGITUDE']].head()}\")"
   ]
  },
  {
   "cell_type": "markdown",
   "id": "339ec1d0-264c-45dc-ac23-852075d9018c",
   "metadata": {},
   "source": [
    "**Key points from Department of Building (DOB) Permit Data cleaning and preprocessing.**\n",
    "* To ensure that the data can be loaded efficiently it was necessary to specify the data format for the DateTime fields\n",
    "* Data analysis revealed that the New York City School Construction Authority is present in the dataset under two different names, that is NYCSCA and NYC SCA. To ensure that the homogeneity of data has been unified.\n",
    "* Less than 1% of the data didn't have a location value or Owner's Business Name value. As this was crucial for further analysis this data has been removed from the dataset.\n",
    "* Most interesting columns and example values have been printed in the last part of the data analysis."
   ]
  },
  {
   "cell_type": "markdown",
   "id": "0fa9c99e",
   "metadata": {},
   "source": [
    "## 3. Data Analysis\n",
    "#### House Parties"
   ]
  },
  {
   "cell_type": "code",
   "execution_count": null,
   "id": "15b84a14",
   "metadata": {},
   "outputs": [],
   "source": [
    "# First we created some helper dictionary structures\n",
    "\n",
    "zip_borough_dict = {\n",
    "    'Queens': [],\n",
    "    'Bronx': [],\n",
    "    'Brooklyn': [],\n",
    "    'Staten Island': [],\n",
    "    'Manhattan': [],\n",
    "}\n",
    "\n",
    "zip_to_borough = {}\n",
    "\n",
    "def find_borough(zip):\n",
    "    if zip=='11208' or zip=='11237':\n",
    "        return 'Brooklyn'\n",
    "    if zip == '11421':\n",
    "        return 'Queens'\n",
    "    if zip=='10463':\n",
    "        return 'Bronx'\n",
    "    return 'Unspecified'\n",
    "\n",
    "# Fill the dictionary and assing correct borough if it's \"Unspecified\"\n",
    "for index, row in data_party.iterrows():\n",
    "    borough = row['Borough']\n",
    "    zip_code = str(int(row['Incident Zip']))\n",
    "    if borough=='Unspecified':\n",
    "        borough = find_borough(zip_code)\n",
    "        data_party.at[index, 'Borough'] = borough\n",
    "    if zip_code not in zip_borough_dict[borough]:\n",
    "        zip_borough_dict[borough].append(zip_code)\n",
    "    if zip_code not in zip_to_borough:\n",
    "        zip_to_borough[zip_code] = borough\n",
    "\n",
    "# Remove not real ZIPs and sort data\n",
    "zip_borough_dict['Manhattan'].remove('83')\n",
    "zip_borough_dict['Manhattan'].remove('12345')\n",
    "for key,zips in zip_borough_dict.items():\n",
    "    zip_borough_dict[key] = sorted(zips)"
   ]
  },
  {
   "cell_type": "code",
   "execution_count": null,
   "id": "6a0f5687",
   "metadata": {},
   "outputs": [],
   "source": [
    "# Create a machine learning model\n",
    "\n",
    "X = data_party[['Month', 'Weekday', 'Incident Zip']]\n",
    "y = data_party['Time']\n",
    "X_train, X_test, y_train, y_test = train_test_split(X, y, test_size=0.2, random_state=42)\n",
    "\n",
    "model = RandomForestRegressor(n_estimators=300, random_state=42)\n",
    "model.fit(X_train, y_train)\n",
    "y_pred = model.predict(X_test)\n",
    "\n",
    "print('Mean Absolute Error:', metrics.mean_absolute_error(y_test, y_pred))\n",
    "print('Mean Squared Error:', metrics.mean_squared_error(y_test, y_pred))\n",
    "print('Root Mean Squared Error:', np.sqrt(metrics.mean_squared_error(y_test, y_pred)))  \n",
    "\n",
    "# Function to make a prediction based on a given month, weekday and zipcode\n",
    "def predict_complaint_time(month, weekday, zipcode):\n",
    "    X = pd.DataFrame({'Month': month, 'Weekday': weekday, 'Incident Zip': zipcode})\n",
    "    predicted_time = model.predict(X)\n",
    "    return predicted_time\n",
    "\n",
    "# Function to convert minutes after noon to actual time\n",
    "def minutes_to_time(minutes):\n",
    "    noon_previous_day = datetime.combine(datetime.now().date() - timedelta(days=1), time(12, 0))\n",
    "    return str((noon_previous_day + timedelta(minutes=minutes)).time())"
   ]
  },
  {
   "cell_type": "markdown",
   "id": "317c8c94",
   "metadata": {},
   "source": [
    "We picked a Random Forest Regressor, as it's a good tool for predicting continouous values and it outperformed other models we tried (e.g. Decision Tree gave a worse result in a bit shorter amount of compute time, while a Neural Network needed much more time to even achieve the same result. Neural Network would probably ultimately be better after sufficient training loops, however the cost vs profit wasn't ideal for us)\n",
    "\n",
    "The result we got is still not great - we have an absolute mean error of around 193 mins, so over 3 hours, but it is a step in the right direction. We believe that with more data and more computational power the result would be better."
   ]
  },
  {
   "cell_type": "code",
   "execution_count": null,
   "id": "1c2e2bb2",
   "metadata": {},
   "outputs": [],
   "source": [
    "# We needed to create data for all possible month/weekday intersecions to pass to Bokeh \n",
    "# interactive plots (browsers cannot calclate live Python code)\n",
    "\n",
    "gdf = gpd.read_file('new-york-zip-codes-_1604.geojson')\n",
    "\n",
    "# Prefilter data\n",
    "filtered_data = {}\n",
    "for m in range(-1,13):\n",
    "    if (m != 0):\n",
    "        filtered_data[str(m)] = {}\n",
    "        for w in range (-1,7):\n",
    "            if w==-1 and m==-1:\n",
    "                temp = data_party\n",
    "            elif w==-1:\n",
    "                temp = data_party[data_party.Month==m]\n",
    "            elif m==-1:\n",
    "                temp = data_party[data_party.Weekday == w]\n",
    "            else:\n",
    "                temp = data_party[(data_party.Weekday == w) & (data_party.Month==m)]\n",
    "            temp['Incident Zip'] = temp['Incident Zip'].astype(int).astype(str)\n",
    "            temp = temp.groupby(['Incident Zip']).size().reset_index(name='NoiseComplaints')\n",
    "            filtered_data[str(m)][str(w)] = temp.set_index('Incident Zip')['NoiseComplaints'].to_dict()\n",
    "            filtered_data[str(m)][str(w)]['max'] = temp['NoiseComplaints'].max()\n",
    "\n",
    "# Precalculate all time predictions for all ZIPs and month/weekdays\n",
    "df = pd.DataFrame(np.array(np.meshgrid(np.arange(1, 13), np.arange(7), gdf['ZCTA5CE10'].astype(str))).T.reshape(-1,3), columns=['month', 'weekday', 'zip'])\n",
    "df['prediction'] = predict_complaint_time(df['month'], df['weekday'], df['zip'])\n",
    "df['prediction'] = df['prediction'].apply(minutes_to_time)\n",
    "nested_dict = df.groupby('month').apply(lambda x: x.groupby('weekday').apply(lambda y: y.set_index('zip')['prediction'].to_dict()).to_dict()).to_dict()"
   ]
  },
  {
   "cell_type": "code",
   "execution_count": null,
   "id": "2724b3d5",
   "metadata": {},
   "outputs": [],
   "source": [
    "# Prepare data for Bokeh\n",
    "data_grouped = data_party.groupby(['Incident Zip']).size().reset_index(name='NoiseComplaints')\n",
    "data_grouped['Incident Zip'] = data_grouped['Incident Zip'].astype(int).astype(str)\n",
    "gdf = gdf[gdf['ZCTA5CE10'] != '99999']\n",
    "merged = gdf.merge(data_grouped, left_on='ZCTA5CE10', right_on='Incident Zip', how='inner')\n",
    "merged['NoiseComplaints'].fillna(0, inplace=True)\n",
    "merged['selected'] = pd.Series([True]*len(merged['ZCTA5CE10']))\n",
    "merged = merged[merged['ZCTA5CE10'] != '99999']\n",
    "merged = merged.drop(columns=['STATEFP10', 'GEOID10', 'CLASSFP10', 'MTFCC10', 'FUNCSTAT10', 'ALAND10', 'PARTFLG10', 'AWATER10'], errors='ignore')\n",
    "merged.sort_values(by=\"NoiseComplaints\", ascending=False).head()"
   ]
  },
  {
   "cell_type": "code",
   "execution_count": null,
   "id": "d664c31b",
   "metadata": {},
   "outputs": [],
   "source": [
    "# Create Bokeh interactive filter map\n",
    "\n",
    "from bokeh.layouts import column, row\n",
    "\n",
    "checkbox_group = CheckboxGroup(labels=gdf['ZCTA5CE10'].tolist(), active=[],inline=True)\n",
    "palette = cm.get_cmap('Oranges', 256)\n",
    "c_dict = {i/256.0: mcolors.rgb2hex(palette(i/256.0)) for i in range(256)}\n",
    "max_val = data_grouped['NoiseComplaints'].max()\n",
    "\n",
    "def map_color(row):\n",
    "    if row['selected']:\n",
    "        normalized_value = row['NoiseComplaints'] / max_val\n",
    "        prev_key, prev_val = -1.0, '#ffffff'\n",
    "        for key, value in c_dict.items():\n",
    "            if normalized_value > prev_key and normalized_value <= key:\n",
    "                return value\n",
    "            prev_key = key\n",
    "            prev_val = value\n",
    "        return prev_val\n",
    "    else:\n",
    "        return '#ffffff'\n",
    "    \n",
    "def map_borough(row):\n",
    "    return zip_to_borough[row['ZCTA5CE10']]\n",
    "\n",
    "\n",
    "merged['color'] = merged.apply(map_color, axis=1)\n",
    "merged['Borough'] = merged.apply(map_borough, axis=1)\n",
    "\n",
    "geosource = GeoJSONDataSource(geojson=merged.to_json())\n",
    "\n",
    "p = figure(title='Noise Complaints by Zip Code in NYC', plot_height=600, plot_width=720, toolbar_location=None)\n",
    "p.xgrid.grid_line_color = None\n",
    "p.ygrid.grid_line_color = None\n",
    "\n",
    "x_label = Label(x=0, y=-25, x_units='screen', y_units='screen', text='Longitude', render_mode='css',\n",
    "                background_fill_color='white', background_fill_alpha=0.0)\n",
    "\n",
    "y_label = Label(x=-5, y=50, x_units='screen', y_units='screen', text='Latitude', angle=90, angle_units='deg', render_mode='css',\n",
    "                 background_fill_color='white', background_fill_alpha=0.0)\n",
    "\n",
    "p.add_layout(x_label)\n",
    "p.add_layout(y_label)\n",
    "\n",
    "zipcodes = p.patches('xs', 'ys', source=geosource, fill_color='color', line_color='black', line_width=0.25, fill_alpha=1)\n",
    "\n",
    "p.add_tools(HoverTool(renderers=[zipcodes], tooltips=[('Zip Code', '@ZCTA5CE10'), ('Noise Complaints', '@NoiseComplaints'), ('Borough', '@Borough')]))\n",
    "\n",
    "title_bronx = Div(text=\"<b>Bronx</b>\", width=130)\n",
    "title_queens = Div(text=\"<b>Queens</b>\", width=130)\n",
    "title_si = Div(text=\"<b>Staten Island</b>\", width=130)\n",
    "title_manh = Div(text=\"<b>Manhattan</b>\", width=130)\n",
    "title_brookl = Div(text=\"<b>Brooklyn</b>\", width=130)\n",
    "checkbox_bronx = CheckboxGroup(labels=zip_borough_dict['Bronx'], active=[], width=130)\n",
    "checkbox_queens = CheckboxGroup(labels=zip_borough_dict['Queens'], active=[], width=130)\n",
    "checkbox_si = CheckboxGroup(labels=zip_borough_dict['Staten Island'], active=[], width=130)\n",
    "checkbox_manh = CheckboxGroup(labels=zip_borough_dict['Manhattan'], active=[], width=130)\n",
    "checkbox_brookl = CheckboxGroup(labels=zip_borough_dict['Brooklyn'], active=[], width=130)\n",
    "month = Select(title='Choose Month', value='-1', options=[(\"-1\", \"All\"),(\"1\", \"January\"), (\"2\", \"February\"), (\"3\", \"March\"), (\"4\", \"April\"), (\"5\", \"May\"), (\"6\", \"June\"), (\"7\", \"July\"), (\"8\", \"August\"), (\"9\", \"September\"), (\"10\", \"October\"), (\"11\", \"November\"), (\"12\", \"December\")])\n",
    "weekday = Select(title='Choose Weekday', value='-1', options=[(\"-1\", \"All\"),(\"0\", \"Monday\"), ('1',\"Tuesday\"), ('2',\"Wednesday\"), ('3',\"Thursday\"), ('4',\"Friday\"), ('5',\"Saturday\"), ('6',\"Sunday\")])\n",
    "\n",
    "month_to_label = {value: label for value, label in month.options}\n",
    "weekday_to_label = {value: label for value, label in weekday.options}\n",
    "\n",
    "callback = CustomJS(args=dict(source=geosource, c_dict=c_dict, max_val=max_val, \n",
    "                              checkbox_bronx=checkbox_bronx, \n",
    "                              checkbox_queens=checkbox_queens, \n",
    "                              checkbox_si=checkbox_si, \n",
    "                              checkbox_manh=checkbox_manh, \n",
    "                              checkbox_brookl=checkbox_brookl, \n",
    "                              month=month,\n",
    "                              weekday=weekday,\n",
    "                              filtered_data=filtered_data,\n",
    "                              month_to_label=month_to_label,\n",
    "                              weekday_to_label=weekday_to_label,\n",
    "                              p=p), code=\"\"\"\n",
    "    var zips_to_plot = [];\n",
    "    zips_to_plot.push(...checkbox_bronx.active.map(i => checkbox_bronx.labels[i]));\n",
    "    zips_to_plot.push(...checkbox_queens.active.map(i => checkbox_queens.labels[i]));\n",
    "    zips_to_plot.push(...checkbox_si.active.map(i => checkbox_si.labels[i]));\n",
    "    zips_to_plot.push(...checkbox_manh.active.map(i => checkbox_manh.labels[i]));\n",
    "    zips_to_plot.push(...checkbox_brookl.active.map(i => checkbox_brookl.labels[i]));\n",
    "    let filterCriteria = (element) => zips_to_plot.includes(element.toString());\n",
    "    var indexes = Array.from({length: source.data.ZCTA5CE10.length}, (_, i) => i);\n",
    "    if (zips_to_plot.length!=0) {\n",
    "        indexes = source.data.ZCTA5CE10.reduce((acc, element, index) => {\n",
    "            if(filterCriteria(element)) {\n",
    "                acc.push(index);\n",
    "            }\n",
    "            return acc;\n",
    "        }, []);\n",
    "    }\n",
    "    source.data.selected = new Array(source.data.ZCTA5CE10.length).fill(false);\n",
    "    indexes.map(index => source.data.selected[index] = true);\n",
    "    var title = 'Noise Complaints by Zip Code in NYC for ' + zips_to_plot.length + ' zip codes'\n",
    "    if (zips_to_plot.length===0) {\n",
    "        title = 'Noise Complaints by Zip Code in NYC for all zip codes'\n",
    "    }\n",
    "    if (month.value != -1 && weekday.value != -1) {\n",
    "        title = title + ', for ' + weekday_to_label[weekday.value] + 's in ' + month_to_label[month.value]\n",
    "    } else if (month.value != -1) {\n",
    "        title = title + ', for ' + month_to_label[month.value]\n",
    "    } else if (weekday.value != -1) {\n",
    "        title = title + ', for ' + weekday_to_label[weekday.value] + 's'\n",
    "    }\n",
    "    p.title.text = title;\n",
    "    var max_value = max_val;\n",
    "    if (weekday.value !== -1 || month.value !== -1) {\n",
    "        max_value = filtered_data[month.value][weekday.value]['max']\n",
    "    }\n",
    "    \n",
    "    function map_color(rowIndex) {\n",
    "        var selected = source.data.selected[rowIndex];\n",
    "        var noiseComplaints = source.data.NoiseComplaints[rowIndex];\n",
    "        if (selected) {\n",
    "            var normalized_value = noiseComplaints / max_value;\n",
    "            var prev_key = -1.0;\n",
    "            var prev_val = '#ffffff';\n",
    "            for (var key in c_dict) {\n",
    "                if (normalized_value > prev_key && normalized_value <= key) {\n",
    "                    return c_dict[key];\n",
    "                }\n",
    "                prev_key = key;\n",
    "                prev_val = c_dict[key];\n",
    "            }\n",
    "            return prev_val;\n",
    "        } else {\n",
    "            return '#ffffff';\n",
    "        }\n",
    "    }\n",
    "    function map_noise(rowIndex) {\n",
    "        if (filtered_data[month.value] && \n",
    "            filtered_data[month.value][weekday.value] && \n",
    "            filtered_data[month.value][weekday.value][source.data.ZCTA5CE10[rowIndex]]) {\n",
    "            return filtered_data[month.value][weekday.value][source.data.ZCTA5CE10[rowIndex]];\n",
    "        } else {\n",
    "            return 0;\n",
    "        }\n",
    "    }\n",
    "    source.data.NoiseComplaints = source.data.NoiseComplaints.map((value, index) => {\n",
    "        return map_noise(index);\n",
    "    });\n",
    "    source.data.color = new Array(source.data.ZCTA5CE10.length).fill('#ffffff');\n",
    "    indexes.map(index => source.data.color[index] = map_color(index));\n",
    "    source.change.emit()\n",
    "\"\"\")\n",
    "\n",
    "month.js_on_change(\"value\",callback)\n",
    "weekday.js_on_change(\"value\",callback)\n",
    "\n",
    "checkbox_brookl.js_on_change('active', callback)\n",
    "checkbox_bronx.js_on_change('active', callback)\n",
    "checkbox_manh.js_on_change('active', callback)\n",
    "checkbox_si.js_on_change('active', callback)\n",
    "checkbox_queens.js_on_change('active', callback)\n",
    "layout = column(children=[row(month, weekday), row(p), row(column(title_brookl, checkbox_brookl),column(title_bronx, checkbox_bronx),column(title_manh, checkbox_manh),column(title_si, checkbox_si),column(title_queens, checkbox_queens))])\n",
    "output_file(\"party_filter.html\")\n",
    "save(layout)"
   ]
  },
  {
   "cell_type": "code",
   "execution_count": null,
   "id": "93b6fa6e",
   "metadata": {},
   "outputs": [],
   "source": [
    "# Create Bokeh time predictions interface\n",
    "from bokeh.layouts import column, row\n",
    "\n",
    "completions = gdf['ZCTA5CE10'].astype(str).tolist()\n",
    "\n",
    "month = Select(title='Choose Month', value='1', options=[(\"1\", \"January\"), (\"2\", \"February\"), (\"3\", \"March\"), (\"4\", \"April\"), (\"5\", \"May\"), (\"6\", \"June\"), (\"7\", \"July\"), (\"8\", \"August\"), (\"9\", \"September\"), (\"10\", \"October\"), (\"11\", \"November\"), (\"12\", \"December\")], width=200)\n",
    "weekday = Select(title='Choose Weekday', value='0', options=[(\"0\", \"Monday\"), ('1',\"Tuesday\"), ('2',\"Wednesday\"), ('3',\"Thursday\"), ('4',\"Friday\"), ('5',\"Saturday\"), ('6',\"Sunday\")], width=200)\n",
    "zip = AutocompleteInput(completions=completions, title=\"Input ZIP Code\", width=200)\n",
    "result_text = Div(text=\"Input ZIP code to get a predicted noise complaint time\", width=720)\n",
    "\n",
    "month_to_label = {value: label for value, label in month.options}\n",
    "weekday_to_label = {value: label for value, label in weekday.options}\n",
    "\n",
    "callback = CustomJS(args=dict(month=month,\n",
    "                              weekday=weekday,\n",
    "                              month_to_label=month_to_label,\n",
    "                              weekday_to_label=weekday_to_label,\n",
    "                              nested_dict=nested_dict,\n",
    "                              result_text=result_text,\n",
    "                              zip = zip), code=\"\"\"\n",
    "    var text = \"Input ZIP code to get a predicted noise complaint time\"\n",
    "    console.log(zip.value)\n",
    "    if (zip.value != null && zip.value!='') {\n",
    "        text = 'Predicted noise complaint time in ZIP code area '+zip.value+' for ' + weekday_to_label[weekday.value] + 's in ' + month_to_label[month.value] + ': '+nested_dict[parseInt(month.value)][parseInt(weekday.value)][zip.value]\n",
    "    }\n",
    "    result_text.text = text\n",
    "\"\"\")\n",
    "\n",
    "month.js_on_change(\"value\",callback)\n",
    "weekday.js_on_change(\"value\",callback)\n",
    "zip.js_on_change(\"value\",callback)\n",
    "\n",
    "layout = column(children=[row(month, weekday, zip),row(result_text)])\n",
    "output_file(\"party_predict.html\")\n",
    "save(layout)"
   ]
  },
  {
   "cell_type": "markdown",
   "id": "9dd5a202-5822-4645-9518-3e013993558f",
   "metadata": {},
   "source": [
    "#### Construction work noise complaints"
   ]
  },
  {
   "cell_type": "markdown",
   "id": "eee9d528",
   "metadata": {},
   "source": [
    "#### TU WRZUĆ I OPISZ CAŁE SWOJE ANALYSIS"
   ]
  },
  {
   "cell_type": "markdown",
   "id": "4f0f8929-6703-4801-8d7a-8c8ccbdf13e1",
   "metadata": {},
   "source": [
    "#### Combining Permit Data and NYC 311 dataset.\n",
    "\n",
    "Those 2 datasets on their own do not provide enough information about how construction work noise can be reflected in actual noise complaints made by NYC residents. However, both of them feature the exact location of the work permit and the noise complaint. This information has been used to create a combined, more meaningful dataset. \n",
    "\n",
    "This custom dataset connects construction site permits with construction site-related noise complaints. For each of the issued job permits a distance in a straight line has been calculated between the work site and the location of the noise complaint made. If the distance was lower than 200 meters then the complaint has been assigned to a particular construction job permit. \n",
    "Construction of this dataset proved to be computationally expensive as for each construction site it was necessary to check all records from the complaints dataset and find only those that happened in the closest area. For that reason, this operation was done only once using DTU computing resources and the final dataset was saved as a JSON file that can be loaded for further work."
   ]
  },
  {
   "cell_type": "markdown",
   "id": "5b205146-92c6-441f-8fbe-900d7b52f3ba",
   "metadata": {},
   "source": [
    "> The script used to create this dataset is in the dataScript.py file."
   ]
  },
  {
   "cell_type": "markdown",
   "id": "4d54f301-5e14-4987-a327-7653e5f3502c",
   "metadata": {},
   "source": [
    "#### Load the custom dataset."
   ]
  },
  {
   "cell_type": "code",
   "execution_count": 61,
   "id": "2fd29337-a4ec-470a-ad62-b4b1df27eb8f",
   "metadata": {
    "tags": []
   },
   "outputs": [
    {
     "name": "stdout",
     "output_type": "stream",
     "text": [
      "Loaded final dict: final_results.json\n",
      "Number of keys: 7071\n"
     ]
    }
   ],
   "source": [
    "# Read the dictionary from the JSON file\n",
    "file_name = 'final_results.json'\n",
    "with open(file_name, 'r') as f:\n",
    "    complaints_dict = json.load(f)\n",
    "print(f\"Loaded final dict: {file_name}\")\n",
    "print(f\"Number of keys: {len(complaints_dict.keys())}\")"
   ]
  },
  {
   "cell_type": "markdown",
   "id": "a4cb1117-ced4-4efa-b1c5-130abb21374b",
   "metadata": {},
   "source": [
    "Further exploration led to the creation of a supplementary dictionary that connects individual companies with the whole number of noise complaints that they received. Thanks to that it was possible to find out which construction sites were most problematic and noisy for New York City residents. This dataset was created using below functions.\n"
   ]
  },
  {
   "cell_type": "code",
   "execution_count": 62,
   "id": "6afe4ec9-3999-49d0-baa4-2de913df23dc",
   "metadata": {
    "tags": []
   },
   "outputs": [
    {
     "ename": "IndexError",
     "evalue": "single positional indexer is out-of-bounds",
     "output_type": "error",
     "traceback": [
      "\u001b[1;31m---------------------------------------------------------------------------\u001b[0m",
      "\u001b[1;31mIndexError\u001b[0m                                Traceback (most recent call last)",
      "Cell \u001b[1;32mIn[62], line 32\u001b[0m\n\u001b[0;32m     28\u001b[0m         num_complaints \u001b[38;5;241m=\u001b[39m \u001b[38;5;28mlen\u001b[39m(business_dict[key])\n\u001b[0;32m     29\u001b[0m         \u001b[38;5;28mprint\u001b[39m(\u001b[38;5;124mf\u001b[39m\u001b[38;5;124m\"\u001b[39m\u001b[38;5;124mPermittee\u001b[39m\u001b[38;5;124m'\u001b[39m\u001b[38;5;124ms Business Name: \u001b[39m\u001b[38;5;132;01m{\u001b[39;00mkey\u001b[38;5;132;01m}\u001b[39;00m\u001b[38;5;124m, Number of Complaints: \u001b[39m\u001b[38;5;132;01m{\u001b[39;00mnum_complaints\u001b[38;5;132;01m}\u001b[39;00m\u001b[38;5;124m\"\u001b[39m)\n\u001b[1;32m---> 32\u001b[0m business_dict \u001b[38;5;241m=\u001b[39m \u001b[43mgroup_complaints_by_owner\u001b[49m\u001b[43m(\u001b[49m\u001b[43mcomplaints_dict\u001b[49m\u001b[43m,\u001b[49m\u001b[43m \u001b[49m\u001b[43mpermit_data\u001b[49m\u001b[43m)\u001b[49m\n\u001b[0;32m     33\u001b[0m show_sorted_owner_dict(business_dict, num_keys\u001b[38;5;241m=\u001b[39m\u001b[38;5;241m5\u001b[39m)\n",
      "Cell \u001b[1;32mIn[62], line 7\u001b[0m, in \u001b[0;36mgroup_complaints_by_owner\u001b[1;34m(complaints_dict, permit_data)\u001b[0m\n\u001b[0;32m      3\u001b[0m complaints_by_owner \u001b[38;5;241m=\u001b[39m {}\n\u001b[0;32m      5\u001b[0m \u001b[38;5;28;01mfor\u001b[39;00m job_number, complaints \u001b[38;5;129;01min\u001b[39;00m complaints_dict\u001b[38;5;241m.\u001b[39mitems():\n\u001b[0;32m      6\u001b[0m     \u001b[38;5;66;03m# Get the owner's business name for the current job_number\u001b[39;00m\n\u001b[1;32m----> 7\u001b[0m     owner_name \u001b[38;5;241m=\u001b[39m \u001b[43mpermit_data\u001b[49m\u001b[38;5;241;43m.\u001b[39;49m\u001b[43mloc\u001b[49m\u001b[43m[\u001b[49m\u001b[43mpermit_data\u001b[49m\u001b[43m[\u001b[49m\u001b[38;5;124;43m'\u001b[39;49m\u001b[38;5;124;43mJob #\u001b[39;49m\u001b[38;5;124;43m'\u001b[39;49m\u001b[43m]\u001b[49m\u001b[43m \u001b[49m\u001b[38;5;241;43m==\u001b[39;49m\u001b[43m \u001b[49m\u001b[38;5;28;43mint\u001b[39;49m\u001b[43m(\u001b[49m\u001b[43mjob_number\u001b[49m\u001b[43m)\u001b[49m\u001b[43m,\u001b[49m\u001b[43m \u001b[49m\u001b[38;5;124;43m\"\u001b[39;49m\u001b[38;5;124;43mPermittee\u001b[39;49m\u001b[38;5;124;43m'\u001b[39;49m\u001b[38;5;124;43ms Business Name\u001b[39;49m\u001b[38;5;124;43m\"\u001b[39;49m\u001b[43m]\u001b[49m\u001b[38;5;241;43m.\u001b[39;49m\u001b[43miloc\u001b[49m\u001b[43m[\u001b[49m\u001b[38;5;241;43m0\u001b[39;49m\u001b[43m]\u001b[49m\n\u001b[0;32m      9\u001b[0m     \u001b[38;5;28;01mif\u001b[39;00m owner_name \u001b[38;5;129;01min\u001b[39;00m complaints_by_owner:\n\u001b[0;32m     10\u001b[0m         \u001b[38;5;66;03m# If the owner's business name exists, append the complaints to its corresponding list\u001b[39;00m\n\u001b[0;32m     11\u001b[0m         complaints_by_owner[owner_name]\u001b[38;5;241m.\u001b[39mextend(complaints)\n",
      "File \u001b[1;32m~\\anaconda3\\envs\\social_graphs\\lib\\site-packages\\pandas\\core\\indexing.py:1103\u001b[0m, in \u001b[0;36m_LocationIndexer.__getitem__\u001b[1;34m(self, key)\u001b[0m\n\u001b[0;32m   1100\u001b[0m axis \u001b[38;5;241m=\u001b[39m \u001b[38;5;28mself\u001b[39m\u001b[38;5;241m.\u001b[39maxis \u001b[38;5;129;01mor\u001b[39;00m \u001b[38;5;241m0\u001b[39m\n\u001b[0;32m   1102\u001b[0m maybe_callable \u001b[38;5;241m=\u001b[39m com\u001b[38;5;241m.\u001b[39mapply_if_callable(key, \u001b[38;5;28mself\u001b[39m\u001b[38;5;241m.\u001b[39mobj)\n\u001b[1;32m-> 1103\u001b[0m \u001b[38;5;28;01mreturn\u001b[39;00m \u001b[38;5;28;43mself\u001b[39;49m\u001b[38;5;241;43m.\u001b[39;49m\u001b[43m_getitem_axis\u001b[49m\u001b[43m(\u001b[49m\u001b[43mmaybe_callable\u001b[49m\u001b[43m,\u001b[49m\u001b[43m \u001b[49m\u001b[43maxis\u001b[49m\u001b[38;5;241;43m=\u001b[39;49m\u001b[43maxis\u001b[49m\u001b[43m)\u001b[49m\n",
      "File \u001b[1;32m~\\anaconda3\\envs\\social_graphs\\lib\\site-packages\\pandas\\core\\indexing.py:1656\u001b[0m, in \u001b[0;36m_iLocIndexer._getitem_axis\u001b[1;34m(self, key, axis)\u001b[0m\n\u001b[0;32m   1653\u001b[0m     \u001b[38;5;28;01mraise\u001b[39;00m \u001b[38;5;167;01mTypeError\u001b[39;00m(\u001b[38;5;124m\"\u001b[39m\u001b[38;5;124mCannot index by location index with a non-integer key\u001b[39m\u001b[38;5;124m\"\u001b[39m)\n\u001b[0;32m   1655\u001b[0m \u001b[38;5;66;03m# validate the location\u001b[39;00m\n\u001b[1;32m-> 1656\u001b[0m \u001b[38;5;28;43mself\u001b[39;49m\u001b[38;5;241;43m.\u001b[39;49m\u001b[43m_validate_integer\u001b[49m\u001b[43m(\u001b[49m\u001b[43mkey\u001b[49m\u001b[43m,\u001b[49m\u001b[43m \u001b[49m\u001b[43maxis\u001b[49m\u001b[43m)\u001b[49m\n\u001b[0;32m   1658\u001b[0m \u001b[38;5;28;01mreturn\u001b[39;00m \u001b[38;5;28mself\u001b[39m\u001b[38;5;241m.\u001b[39mobj\u001b[38;5;241m.\u001b[39m_ixs(key, axis\u001b[38;5;241m=\u001b[39maxis)\n",
      "File \u001b[1;32m~\\anaconda3\\envs\\social_graphs\\lib\\site-packages\\pandas\\core\\indexing.py:1589\u001b[0m, in \u001b[0;36m_iLocIndexer._validate_integer\u001b[1;34m(self, key, axis)\u001b[0m\n\u001b[0;32m   1587\u001b[0m len_axis \u001b[38;5;241m=\u001b[39m \u001b[38;5;28mlen\u001b[39m(\u001b[38;5;28mself\u001b[39m\u001b[38;5;241m.\u001b[39mobj\u001b[38;5;241m.\u001b[39m_get_axis(axis))\n\u001b[0;32m   1588\u001b[0m \u001b[38;5;28;01mif\u001b[39;00m key \u001b[38;5;241m>\u001b[39m\u001b[38;5;241m=\u001b[39m len_axis \u001b[38;5;129;01mor\u001b[39;00m key \u001b[38;5;241m<\u001b[39m \u001b[38;5;241m-\u001b[39mlen_axis:\n\u001b[1;32m-> 1589\u001b[0m     \u001b[38;5;28;01mraise\u001b[39;00m \u001b[38;5;167;01mIndexError\u001b[39;00m(\u001b[38;5;124m\"\u001b[39m\u001b[38;5;124msingle positional indexer is out-of-bounds\u001b[39m\u001b[38;5;124m\"\u001b[39m)\n",
      "\u001b[1;31mIndexError\u001b[0m: single positional indexer is out-of-bounds"
     ]
    }
   ],
   "source": [
    "def group_complaints_by_owner(complaints_dict, permit_data):\n",
    "    \n",
    "    complaints_by_owner = {}\n",
    "\n",
    "    for job_number, complaints in complaints_dict.items():\n",
    "        # Get the owner's business name for the current job_number\n",
    "        owner_name = permit_data.loc[permit_data['Job #'] == int(job_number), \"Permittee's Business Name\"].iloc[0]\n",
    "        \n",
    "        if owner_name in complaints_by_owner:\n",
    "            # If the owner's business name exists, append the complaints to its corresponding list\n",
    "            complaints_by_owner[owner_name].extend(complaints)\n",
    "        else:\n",
    "            # If the owner's business name doesn't exist, create a new key-value pair\n",
    "            complaints_by_owner[owner_name] = complaints.copy()\n",
    "    \n",
    "    complaints_by_owner = {k: v for k, v in complaints_by_owner.items() if pd.notna(k)}\n",
    "    \n",
    "    return complaints_by_owner\n",
    "\n",
    "def show_sorted_owner_dict(business_dict, num_keys=20):\n",
    "    # Sort the keys based on the number of values\n",
    "    sorted_keys = sorted(business_dict, key=lambda k: len(business_dict[k]), reverse=True)\n",
    "    \n",
    "    # Limit the number of keys to show\n",
    "    sorted_keys = sorted_keys[:num_keys]\n",
    "    \n",
    "    for key in sorted_keys:\n",
    "        num_complaints = len(business_dict[key])\n",
    "        print(f\"Permittee's Business Name: {key}, Number of Complaints: {num_complaints}\")\n",
    "\n",
    "\n",
    "business_dict = group_complaints_by_owner(complaints_dict, permit_data)\n",
    "show_sorted_owner_dict(business_dict, num_keys=5)"
   ]
  },
  {
   "cell_type": "markdown",
   "id": "d4357b77",
   "metadata": {},
   "source": [
    "# 4. Genre"
   ]
  },
  {
   "cell_type": "markdown",
   "id": "4d3c95d3",
   "metadata": {},
   "source": [
    "### 4.1. Visual narrative tools"
   ]
  },
  {
   "cell_type": "markdown",
   "id": "500e4125",
   "metadata": {},
   "source": [
    "### TUTAJ trzeba wrzucić nawiązanie do: Which tools did you use from each of the 3 categories of Visual Narrative (Figure 7 in Segal and Heer). Why?"
   ]
  },
  {
   "cell_type": "markdown",
   "id": "7ef4b2b1",
   "metadata": {},
   "source": [
    "### 4.2. Narrative structure tools"
   ]
  },
  {
   "cell_type": "markdown",
   "id": "ae018b07",
   "metadata": {},
   "source": [
    "### TUTAJ trzeba wrzucić nawiązanie do: Which tools did you use from each of the 3 categories of Narrative Structure (Figure 7 in Segal and Heer). Why?"
   ]
  },
  {
   "cell_type": "markdown",
   "id": "72e936a5",
   "metadata": {},
   "source": [
    "# 5. Visualizations"
   ]
  },
  {
   "cell_type": "markdown",
   "id": "2a96df03",
   "metadata": {},
   "source": [
    "### Opis naszych typów visualizations i dlaczego je wybraliśmy. (sam tekst, ew. jak bardzo chcecie to można viz)"
   ]
  },
  {
   "cell_type": "markdown",
   "id": "4b3fd764",
   "metadata": {},
   "source": [
    "# 6. Discussion"
   ]
  },
  {
   "cell_type": "markdown",
   "id": "ea2fcceb",
   "metadata": {},
   "source": [
    "### What went well?, What is still missing? What could be improved?, Why?"
   ]
  },
  {
   "cell_type": "markdown",
   "id": "c6b02234",
   "metadata": {},
   "source": [
    "# 7. Contributions"
   ]
  },
  {
   "cell_type": "markdown",
   "id": "b53b5680",
   "metadata": {},
   "source": [
    "### You should write (just briefly) which group member was the main responsible for which elements of the assignment. (I want you guys to understand every part of the assignment, but usually there is someone who took lead role on certain portions of the work. That's what you should explain). It is not OK simply to write \"All group members contributed equally\"."
   ]
  },
  {
   "cell_type": "markdown",
   "id": "284916aa",
   "metadata": {},
   "source": [
    "# References"
   ]
  },
  {
   "cell_type": "markdown",
   "id": "04658bd5",
   "metadata": {},
   "source": [
    "[1] https://data.cityofnewyork.us/Social-Services/311-Service-Requests-from-2010-to-Present/erm2-nwe9/about_data \n",
    "\n",
    "[2] https://data.census.gov/profile/New_York_city,_New_York?g=160XX00US3651000 \n",
    "\n",
    "[3] https://data.cityofnewyork.us/Housing-Development/DOB-Permit-Issuance/ipu4-2q9a/about_data\n",
    "\n",
    "[4] https://cartographyvectors.com/map/1604-new-york-zip-codes "
   ]
  }
 ],
 "metadata": {
  "kernelspec": {
   "display_name": "Python 3 (ipykernel)",
   "language": "python",
   "name": "python3"
  },
  "language_info": {
   "codemirror_mode": {
    "name": "ipython",
    "version": 3
   },
   "file_extension": ".py",
   "mimetype": "text/x-python",
   "name": "python",
   "nbconvert_exporter": "python",
   "pygments_lexer": "ipython3",
   "version": "3.8.2"
  }
 },
 "nbformat": 4,
 "nbformat_minor": 5
}
