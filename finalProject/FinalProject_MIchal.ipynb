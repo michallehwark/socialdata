{
 "cells": [
  {
   "cell_type": "code",
   "execution_count": 1,
   "id": "5cae9b7f-c843-48cc-af81-e7325141eadc",
   "metadata": {
    "tags": []
   },
   "outputs": [],
   "source": [
    "import pandas as pd\n",
    "import numpy as np\n",
    "import json\n",
    "import plotly.graph_objects as go\n",
    "import matplotlib.pyplot as plt\n",
    "import calendar"
   ]
  },
  {
   "cell_type": "code",
   "execution_count": 4,
   "id": "a03be92e-4ef7-4754-845c-2345403673b1",
   "metadata": {
    "tags": []
   },
   "outputs": [],
   "source": [
    "# path = r\"C:\\Users\\micha\\OneDrive\\Pulpit\\DTU\\S4\\02806_Social\\week1\\Police_Department_Incident_Reports__Historical_2003_to_May_2018_20240129.csv\"\n",
    "path= r\"C:\\Users\\micha\\OneDrive\\Pulpit\\DTU\\S4\\02806_Social\\finalProject\\DOB_Permit_Issuance_20240421.csv\"\n",
    "data = pd.read_csv(path)"
   ]
  },
  {
   "cell_type": "code",
   "execution_count": 9,
   "id": "58909a32-0c7e-4814-98b8-dedc882eab80",
   "metadata": {
    "tags": []
   },
   "outputs": [
    {
     "name": "stdout",
     "output_type": "stream",
     "text": [
      "Total records: 14474\n",
      "Index(['BOROUGH', 'Bin #', 'House #', 'Street Name', 'Job #', 'Job doc. #',\n",
      "       'Job Type', 'Self_Cert', 'Block', 'Lot', 'Community Board', 'Zip Code',\n",
      "       'Bldg Type', 'Residential', 'Special District 1', 'Special District 2',\n",
      "       'Work Type', 'Permit Status', 'Filing Status', 'Permit Type',\n",
      "       'Permit Sequence #', 'Permit Subtype', 'Oil Gas', 'Site Fill',\n",
      "       'Filing Date', 'Issuance Date', 'Expiration Date', 'Job Start Date',\n",
      "       'Permittee's First Name', 'Permittee's Last Name',\n",
      "       'Permittee's Business Name', 'Permittee's Phone #',\n",
      "       'Permittee's License Type', 'Permittee's License #',\n",
      "       'Act as Superintendent', 'Permittee's Other Title', 'HIC License',\n",
      "       'Site Safety Mgr's First Name', 'Site Safety Mgr's Last Name',\n",
      "       'Site Safety Mgr Business Name', 'Superintendent First & Last Name',\n",
      "       'Superintendent Business Name', 'Owner's Business Type', 'Non-Profit',\n",
      "       'Owner's Business Name', 'Owner's First Name', 'Owner's Last Name',\n",
      "       'Owner's House #', 'Owner's House Street Name', 'Owner’s House City',\n",
      "       'Owner’s House State', 'Owner’s House Zip Code', 'Owner's Phone #',\n",
      "       'DOBRunDate', 'PERMIT_SI_NO', 'LATITUDE', 'LONGITUDE',\n",
      "       'COUNCIL_DISTRICT', 'CENSUS_TRACT', 'NTA_NAME'],\n",
      "      dtype='object')\n"
     ]
    }
   ],
   "source": [
    "print(f\"Total records: {len(data)}\")\n",
    "print(data.keys())"
   ]
  },
  {
   "cell_type": "code",
   "execution_count": 10,
   "id": "4b245f04-d4db-411b-a6b3-725a401fb7c6",
   "metadata": {
    "tags": []
   },
   "outputs": [
    {
     "name": "stdout",
     "output_type": "stream",
     "text": [
      "['BROOKLYN' 'STATEN ISLAND' 'QUEENS' 'MANHATTAN' 'BRONX']\n"
     ]
    }
   ],
   "source": [
    "print(data['BOROUGH'].unique())"
   ]
  },
  {
   "cell_type": "code",
   "execution_count": 11,
   "id": "9f4e616c-87ea-4222-b32d-31a5234df5cc",
   "metadata": {},
   "outputs": [
    {
     "name": "stdout",
     "output_type": "stream",
     "text": [
      "['A2' 'DM' 'A3' 'NB' 'A1']\n"
     ]
    }
   ],
   "source": [
    "print(data['Job Type'].unique())"
   ]
  },
  {
   "cell_type": "code",
   "execution_count": null,
   "id": "21b290ad-fe98-493e-ad3f-ebc7191916f5",
   "metadata": {},
   "outputs": [],
   "source": []
  }
 ],
 "metadata": {
  "kernelspec": {
   "display_name": "Python 3 (ipykernel)",
   "language": "python",
   "name": "python3"
  },
  "language_info": {
   "codemirror_mode": {
    "name": "ipython",
    "version": 3
   },
   "file_extension": ".py",
   "mimetype": "text/x-python",
   "name": "python",
   "nbconvert_exporter": "python",
   "pygments_lexer": "ipython3",
   "version": "3.9.17"
  }
 },
 "nbformat": 4,
 "nbformat_minor": 5
}
